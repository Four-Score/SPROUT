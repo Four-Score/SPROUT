{
  "nbformat": 4,
  "nbformat_minor": 0,
  "metadata": {
    "colab": {
      "provenance": []
    },
    "kernelspec": {
      "name": "python3",
      "display_name": "Python 3"
    },
    "language_info": {
      "name": "python"
    },
    "widgets": {
      "application/vnd.jupyter.widget-state+json": {
        "90eaae0052e8403ead9c36c076012bc7": {
          "model_module": "@jupyter-widgets/controls",
          "model_name": "HBoxModel",
          "model_module_version": "2.0.0",
          "state": {
            "_dom_classes": [],
            "_model_module": "@jupyter-widgets/controls",
            "_model_module_version": "2.0.0",
            "_model_name": "HBoxModel",
            "_view_count": null,
            "_view_module": "@jupyter-widgets/controls",
            "_view_module_version": "2.0.0",
            "_view_name": "HBoxView",
            "box_style": "",
            "children": [
              "IPY_MODEL_77eb94ebce004bf6924b66afb0e4a1bc",
              "IPY_MODEL_0987b3f7053f4f99befa8913f120c080",
              "IPY_MODEL_3592f196697b4071b81e9a2ad5a3b4db"
            ],
            "layout": "IPY_MODEL_598d73ffab4d4a4198e51105e86c09c4",
            "tabbable": null,
            "tooltip": null
          }
        },
        "77eb94ebce004bf6924b66afb0e4a1bc": {
          "model_module": "@jupyter-widgets/controls",
          "model_name": "HTMLModel",
          "model_module_version": "2.0.0",
          "state": {
            "_dom_classes": [],
            "_model_module": "@jupyter-widgets/controls",
            "_model_module_version": "2.0.0",
            "_model_name": "HTMLModel",
            "_view_count": null,
            "_view_module": "@jupyter-widgets/controls",
            "_view_module_version": "2.0.0",
            "_view_name": "HTMLView",
            "description": "",
            "description_allow_html": false,
            "layout": "IPY_MODEL_7995f69a124a44b892d5ab4699853f65",
            "placeholder": "​",
            "style": "IPY_MODEL_aab11786123846d1a91f8c8c90ca4dc1",
            "tabbable": null,
            "tooltip": null,
            "value": "Generating embeddings: 100%"
          }
        },
        "0987b3f7053f4f99befa8913f120c080": {
          "model_module": "@jupyter-widgets/controls",
          "model_name": "FloatProgressModel",
          "model_module_version": "2.0.0",
          "state": {
            "_dom_classes": [],
            "_model_module": "@jupyter-widgets/controls",
            "_model_module_version": "2.0.0",
            "_model_name": "FloatProgressModel",
            "_view_count": null,
            "_view_module": "@jupyter-widgets/controls",
            "_view_module_version": "2.0.0",
            "_view_name": "ProgressView",
            "bar_style": "success",
            "description": "",
            "description_allow_html": false,
            "layout": "IPY_MODEL_c9d907e11e604239a7d9d878966550a7",
            "max": 291,
            "min": 0,
            "orientation": "horizontal",
            "style": "IPY_MODEL_abb4dd1f9fa84c3dbf75f1cc37988fc1",
            "tabbable": null,
            "tooltip": null,
            "value": 291
          }
        },
        "3592f196697b4071b81e9a2ad5a3b4db": {
          "model_module": "@jupyter-widgets/controls",
          "model_name": "HTMLModel",
          "model_module_version": "2.0.0",
          "state": {
            "_dom_classes": [],
            "_model_module": "@jupyter-widgets/controls",
            "_model_module_version": "2.0.0",
            "_model_name": "HTMLModel",
            "_view_count": null,
            "_view_module": "@jupyter-widgets/controls",
            "_view_module_version": "2.0.0",
            "_view_name": "HTMLView",
            "description": "",
            "description_allow_html": false,
            "layout": "IPY_MODEL_53fe97df47f94821ab02baa9b7b5f7c6",
            "placeholder": "​",
            "style": "IPY_MODEL_e5748720347f44ac935e5ebda727a3c1",
            "tabbable": null,
            "tooltip": null,
            "value": " 291/291 [02:31&lt;00:00,  1.83it/s]"
          }
        },
        "598d73ffab4d4a4198e51105e86c09c4": {
          "model_module": "@jupyter-widgets/base",
          "model_name": "LayoutModel",
          "model_module_version": "2.0.0",
          "state": {
            "_model_module": "@jupyter-widgets/base",
            "_model_module_version": "2.0.0",
            "_model_name": "LayoutModel",
            "_view_count": null,
            "_view_module": "@jupyter-widgets/base",
            "_view_module_version": "2.0.0",
            "_view_name": "LayoutView",
            "align_content": null,
            "align_items": null,
            "align_self": null,
            "border_bottom": null,
            "border_left": null,
            "border_right": null,
            "border_top": null,
            "bottom": null,
            "display": null,
            "flex": null,
            "flex_flow": null,
            "grid_area": null,
            "grid_auto_columns": null,
            "grid_auto_flow": null,
            "grid_auto_rows": null,
            "grid_column": null,
            "grid_gap": null,
            "grid_row": null,
            "grid_template_areas": null,
            "grid_template_columns": null,
            "grid_template_rows": null,
            "height": null,
            "justify_content": null,
            "justify_items": null,
            "left": null,
            "margin": null,
            "max_height": null,
            "max_width": null,
            "min_height": null,
            "min_width": null,
            "object_fit": null,
            "object_position": null,
            "order": null,
            "overflow": null,
            "padding": null,
            "right": null,
            "top": null,
            "visibility": null,
            "width": null
          }
        },
        "7995f69a124a44b892d5ab4699853f65": {
          "model_module": "@jupyter-widgets/base",
          "model_name": "LayoutModel",
          "model_module_version": "2.0.0",
          "state": {
            "_model_module": "@jupyter-widgets/base",
            "_model_module_version": "2.0.0",
            "_model_name": "LayoutModel",
            "_view_count": null,
            "_view_module": "@jupyter-widgets/base",
            "_view_module_version": "2.0.0",
            "_view_name": "LayoutView",
            "align_content": null,
            "align_items": null,
            "align_self": null,
            "border_bottom": null,
            "border_left": null,
            "border_right": null,
            "border_top": null,
            "bottom": null,
            "display": null,
            "flex": null,
            "flex_flow": null,
            "grid_area": null,
            "grid_auto_columns": null,
            "grid_auto_flow": null,
            "grid_auto_rows": null,
            "grid_column": null,
            "grid_gap": null,
            "grid_row": null,
            "grid_template_areas": null,
            "grid_template_columns": null,
            "grid_template_rows": null,
            "height": null,
            "justify_content": null,
            "justify_items": null,
            "left": null,
            "margin": null,
            "max_height": null,
            "max_width": null,
            "min_height": null,
            "min_width": null,
            "object_fit": null,
            "object_position": null,
            "order": null,
            "overflow": null,
            "padding": null,
            "right": null,
            "top": null,
            "visibility": null,
            "width": null
          }
        },
        "aab11786123846d1a91f8c8c90ca4dc1": {
          "model_module": "@jupyter-widgets/controls",
          "model_name": "HTMLStyleModel",
          "model_module_version": "2.0.0",
          "state": {
            "_model_module": "@jupyter-widgets/controls",
            "_model_module_version": "2.0.0",
            "_model_name": "HTMLStyleModel",
            "_view_count": null,
            "_view_module": "@jupyter-widgets/base",
            "_view_module_version": "2.0.0",
            "_view_name": "StyleView",
            "background": null,
            "description_width": "",
            "font_size": null,
            "text_color": null
          }
        },
        "c9d907e11e604239a7d9d878966550a7": {
          "model_module": "@jupyter-widgets/base",
          "model_name": "LayoutModel",
          "model_module_version": "2.0.0",
          "state": {
            "_model_module": "@jupyter-widgets/base",
            "_model_module_version": "2.0.0",
            "_model_name": "LayoutModel",
            "_view_count": null,
            "_view_module": "@jupyter-widgets/base",
            "_view_module_version": "2.0.0",
            "_view_name": "LayoutView",
            "align_content": null,
            "align_items": null,
            "align_self": null,
            "border_bottom": null,
            "border_left": null,
            "border_right": null,
            "border_top": null,
            "bottom": null,
            "display": null,
            "flex": null,
            "flex_flow": null,
            "grid_area": null,
            "grid_auto_columns": null,
            "grid_auto_flow": null,
            "grid_auto_rows": null,
            "grid_column": null,
            "grid_gap": null,
            "grid_row": null,
            "grid_template_areas": null,
            "grid_template_columns": null,
            "grid_template_rows": null,
            "height": null,
            "justify_content": null,
            "justify_items": null,
            "left": null,
            "margin": null,
            "max_height": null,
            "max_width": null,
            "min_height": null,
            "min_width": null,
            "object_fit": null,
            "object_position": null,
            "order": null,
            "overflow": null,
            "padding": null,
            "right": null,
            "top": null,
            "visibility": null,
            "width": null
          }
        },
        "abb4dd1f9fa84c3dbf75f1cc37988fc1": {
          "model_module": "@jupyter-widgets/controls",
          "model_name": "ProgressStyleModel",
          "model_module_version": "2.0.0",
          "state": {
            "_model_module": "@jupyter-widgets/controls",
            "_model_module_version": "2.0.0",
            "_model_name": "ProgressStyleModel",
            "_view_count": null,
            "_view_module": "@jupyter-widgets/base",
            "_view_module_version": "2.0.0",
            "_view_name": "StyleView",
            "bar_color": null,
            "description_width": ""
          }
        },
        "53fe97df47f94821ab02baa9b7b5f7c6": {
          "model_module": "@jupyter-widgets/base",
          "model_name": "LayoutModel",
          "model_module_version": "2.0.0",
          "state": {
            "_model_module": "@jupyter-widgets/base",
            "_model_module_version": "2.0.0",
            "_model_name": "LayoutModel",
            "_view_count": null,
            "_view_module": "@jupyter-widgets/base",
            "_view_module_version": "2.0.0",
            "_view_name": "LayoutView",
            "align_content": null,
            "align_items": null,
            "align_self": null,
            "border_bottom": null,
            "border_left": null,
            "border_right": null,
            "border_top": null,
            "bottom": null,
            "display": null,
            "flex": null,
            "flex_flow": null,
            "grid_area": null,
            "grid_auto_columns": null,
            "grid_auto_flow": null,
            "grid_auto_rows": null,
            "grid_column": null,
            "grid_gap": null,
            "grid_row": null,
            "grid_template_areas": null,
            "grid_template_columns": null,
            "grid_template_rows": null,
            "height": null,
            "justify_content": null,
            "justify_items": null,
            "left": null,
            "margin": null,
            "max_height": null,
            "max_width": null,
            "min_height": null,
            "min_width": null,
            "object_fit": null,
            "object_position": null,
            "order": null,
            "overflow": null,
            "padding": null,
            "right": null,
            "top": null,
            "visibility": null,
            "width": null
          }
        },
        "e5748720347f44ac935e5ebda727a3c1": {
          "model_module": "@jupyter-widgets/controls",
          "model_name": "HTMLStyleModel",
          "model_module_version": "2.0.0",
          "state": {
            "_model_module": "@jupyter-widgets/controls",
            "_model_module_version": "2.0.0",
            "_model_name": "HTMLStyleModel",
            "_view_count": null,
            "_view_module": "@jupyter-widgets/base",
            "_view_module_version": "2.0.0",
            "_view_name": "StyleView",
            "background": null,
            "description_width": "",
            "font_size": null,
            "text_color": null
          }
        },
        "81473d0495654711b2ced1ae7419ffc1": {
          "model_module": "@jupyter-widgets/controls",
          "model_name": "HBoxModel",
          "model_module_version": "2.0.0",
          "state": {
            "_dom_classes": [],
            "_model_module": "@jupyter-widgets/controls",
            "_model_module_version": "2.0.0",
            "_model_name": "HBoxModel",
            "_view_count": null,
            "_view_module": "@jupyter-widgets/controls",
            "_view_module_version": "2.0.0",
            "_view_name": "HBoxView",
            "box_style": "",
            "children": [
              "IPY_MODEL_abc870e28c15463cbf68947d1809a392",
              "IPY_MODEL_73d24c6f5a534eae8918d8ac67587589",
              "IPY_MODEL_777afe0291f94a20a486c21bca256403"
            ],
            "layout": "IPY_MODEL_82809be47abd439cbc4de230d389137e",
            "tabbable": null,
            "tooltip": null
          }
        },
        "abc870e28c15463cbf68947d1809a392": {
          "model_module": "@jupyter-widgets/controls",
          "model_name": "HTMLModel",
          "model_module_version": "2.0.0",
          "state": {
            "_dom_classes": [],
            "_model_module": "@jupyter-widgets/controls",
            "_model_module_version": "2.0.0",
            "_model_name": "HTMLModel",
            "_view_count": null,
            "_view_module": "@jupyter-widgets/controls",
            "_view_module_version": "2.0.0",
            "_view_name": "HTMLView",
            "description": "",
            "description_allow_html": false,
            "layout": "IPY_MODEL_64b5ffaa2b314eaa94f5367f80a71327",
            "placeholder": "​",
            "style": "IPY_MODEL_c2b3ab955dd04282a151f76a169f9b79",
            "tabbable": null,
            "tooltip": null,
            "value": "Generating image embeddings: 100%"
          }
        },
        "73d24c6f5a534eae8918d8ac67587589": {
          "model_module": "@jupyter-widgets/controls",
          "model_name": "FloatProgressModel",
          "model_module_version": "2.0.0",
          "state": {
            "_dom_classes": [],
            "_model_module": "@jupyter-widgets/controls",
            "_model_module_version": "2.0.0",
            "_model_name": "FloatProgressModel",
            "_view_count": null,
            "_view_module": "@jupyter-widgets/controls",
            "_view_module_version": "2.0.0",
            "_view_name": "ProgressView",
            "bar_style": "success",
            "description": "",
            "description_allow_html": false,
            "layout": "IPY_MODEL_ddf9628c07244a049dd55ee1d65708f7",
            "max": 22,
            "min": 0,
            "orientation": "horizontal",
            "style": "IPY_MODEL_742c3df646984d47afecdac3a21752ac",
            "tabbable": null,
            "tooltip": null,
            "value": 22
          }
        },
        "777afe0291f94a20a486c21bca256403": {
          "model_module": "@jupyter-widgets/controls",
          "model_name": "HTMLModel",
          "model_module_version": "2.0.0",
          "state": {
            "_dom_classes": [],
            "_model_module": "@jupyter-widgets/controls",
            "_model_module_version": "2.0.0",
            "_model_name": "HTMLModel",
            "_view_count": null,
            "_view_module": "@jupyter-widgets/controls",
            "_view_module_version": "2.0.0",
            "_view_name": "HTMLView",
            "description": "",
            "description_allow_html": false,
            "layout": "IPY_MODEL_989087817db245819f417717996cbd8d",
            "placeholder": "​",
            "style": "IPY_MODEL_bfe02dc25f7c4abea7af3845fc8d355a",
            "tabbable": null,
            "tooltip": null,
            "value": " 22/22 [00:03&lt;00:00,  6.14it/s]"
          }
        },
        "82809be47abd439cbc4de230d389137e": {
          "model_module": "@jupyter-widgets/base",
          "model_name": "LayoutModel",
          "model_module_version": "2.0.0",
          "state": {
            "_model_module": "@jupyter-widgets/base",
            "_model_module_version": "2.0.0",
            "_model_name": "LayoutModel",
            "_view_count": null,
            "_view_module": "@jupyter-widgets/base",
            "_view_module_version": "2.0.0",
            "_view_name": "LayoutView",
            "align_content": null,
            "align_items": null,
            "align_self": null,
            "border_bottom": null,
            "border_left": null,
            "border_right": null,
            "border_top": null,
            "bottom": null,
            "display": null,
            "flex": null,
            "flex_flow": null,
            "grid_area": null,
            "grid_auto_columns": null,
            "grid_auto_flow": null,
            "grid_auto_rows": null,
            "grid_column": null,
            "grid_gap": null,
            "grid_row": null,
            "grid_template_areas": null,
            "grid_template_columns": null,
            "grid_template_rows": null,
            "height": null,
            "justify_content": null,
            "justify_items": null,
            "left": null,
            "margin": null,
            "max_height": null,
            "max_width": null,
            "min_height": null,
            "min_width": null,
            "object_fit": null,
            "object_position": null,
            "order": null,
            "overflow": null,
            "padding": null,
            "right": null,
            "top": null,
            "visibility": null,
            "width": null
          }
        },
        "64b5ffaa2b314eaa94f5367f80a71327": {
          "model_module": "@jupyter-widgets/base",
          "model_name": "LayoutModel",
          "model_module_version": "2.0.0",
          "state": {
            "_model_module": "@jupyter-widgets/base",
            "_model_module_version": "2.0.0",
            "_model_name": "LayoutModel",
            "_view_count": null,
            "_view_module": "@jupyter-widgets/base",
            "_view_module_version": "2.0.0",
            "_view_name": "LayoutView",
            "align_content": null,
            "align_items": null,
            "align_self": null,
            "border_bottom": null,
            "border_left": null,
            "border_right": null,
            "border_top": null,
            "bottom": null,
            "display": null,
            "flex": null,
            "flex_flow": null,
            "grid_area": null,
            "grid_auto_columns": null,
            "grid_auto_flow": null,
            "grid_auto_rows": null,
            "grid_column": null,
            "grid_gap": null,
            "grid_row": null,
            "grid_template_areas": null,
            "grid_template_columns": null,
            "grid_template_rows": null,
            "height": null,
            "justify_content": null,
            "justify_items": null,
            "left": null,
            "margin": null,
            "max_height": null,
            "max_width": null,
            "min_height": null,
            "min_width": null,
            "object_fit": null,
            "object_position": null,
            "order": null,
            "overflow": null,
            "padding": null,
            "right": null,
            "top": null,
            "visibility": null,
            "width": null
          }
        },
        "c2b3ab955dd04282a151f76a169f9b79": {
          "model_module": "@jupyter-widgets/controls",
          "model_name": "HTMLStyleModel",
          "model_module_version": "2.0.0",
          "state": {
            "_model_module": "@jupyter-widgets/controls",
            "_model_module_version": "2.0.0",
            "_model_name": "HTMLStyleModel",
            "_view_count": null,
            "_view_module": "@jupyter-widgets/base",
            "_view_module_version": "2.0.0",
            "_view_name": "StyleView",
            "background": null,
            "description_width": "",
            "font_size": null,
            "text_color": null
          }
        },
        "ddf9628c07244a049dd55ee1d65708f7": {
          "model_module": "@jupyter-widgets/base",
          "model_name": "LayoutModel",
          "model_module_version": "2.0.0",
          "state": {
            "_model_module": "@jupyter-widgets/base",
            "_model_module_version": "2.0.0",
            "_model_name": "LayoutModel",
            "_view_count": null,
            "_view_module": "@jupyter-widgets/base",
            "_view_module_version": "2.0.0",
            "_view_name": "LayoutView",
            "align_content": null,
            "align_items": null,
            "align_self": null,
            "border_bottom": null,
            "border_left": null,
            "border_right": null,
            "border_top": null,
            "bottom": null,
            "display": null,
            "flex": null,
            "flex_flow": null,
            "grid_area": null,
            "grid_auto_columns": null,
            "grid_auto_flow": null,
            "grid_auto_rows": null,
            "grid_column": null,
            "grid_gap": null,
            "grid_row": null,
            "grid_template_areas": null,
            "grid_template_columns": null,
            "grid_template_rows": null,
            "height": null,
            "justify_content": null,
            "justify_items": null,
            "left": null,
            "margin": null,
            "max_height": null,
            "max_width": null,
            "min_height": null,
            "min_width": null,
            "object_fit": null,
            "object_position": null,
            "order": null,
            "overflow": null,
            "padding": null,
            "right": null,
            "top": null,
            "visibility": null,
            "width": null
          }
        },
        "742c3df646984d47afecdac3a21752ac": {
          "model_module": "@jupyter-widgets/controls",
          "model_name": "ProgressStyleModel",
          "model_module_version": "2.0.0",
          "state": {
            "_model_module": "@jupyter-widgets/controls",
            "_model_module_version": "2.0.0",
            "_model_name": "ProgressStyleModel",
            "_view_count": null,
            "_view_module": "@jupyter-widgets/base",
            "_view_module_version": "2.0.0",
            "_view_name": "StyleView",
            "bar_color": null,
            "description_width": ""
          }
        },
        "989087817db245819f417717996cbd8d": {
          "model_module": "@jupyter-widgets/base",
          "model_name": "LayoutModel",
          "model_module_version": "2.0.0",
          "state": {
            "_model_module": "@jupyter-widgets/base",
            "_model_module_version": "2.0.0",
            "_model_name": "LayoutModel",
            "_view_count": null,
            "_view_module": "@jupyter-widgets/base",
            "_view_module_version": "2.0.0",
            "_view_name": "LayoutView",
            "align_content": null,
            "align_items": null,
            "align_self": null,
            "border_bottom": null,
            "border_left": null,
            "border_right": null,
            "border_top": null,
            "bottom": null,
            "display": null,
            "flex": null,
            "flex_flow": null,
            "grid_area": null,
            "grid_auto_columns": null,
            "grid_auto_flow": null,
            "grid_auto_rows": null,
            "grid_column": null,
            "grid_gap": null,
            "grid_row": null,
            "grid_template_areas": null,
            "grid_template_columns": null,
            "grid_template_rows": null,
            "height": null,
            "justify_content": null,
            "justify_items": null,
            "left": null,
            "margin": null,
            "max_height": null,
            "max_width": null,
            "min_height": null,
            "min_width": null,
            "object_fit": null,
            "object_position": null,
            "order": null,
            "overflow": null,
            "padding": null,
            "right": null,
            "top": null,
            "visibility": null,
            "width": null
          }
        },
        "bfe02dc25f7c4abea7af3845fc8d355a": {
          "model_module": "@jupyter-widgets/controls",
          "model_name": "HTMLStyleModel",
          "model_module_version": "2.0.0",
          "state": {
            "_model_module": "@jupyter-widgets/controls",
            "_model_module_version": "2.0.0",
            "_model_name": "HTMLStyleModel",
            "_view_count": null,
            "_view_module": "@jupyter-widgets/base",
            "_view_module_version": "2.0.0",
            "_view_name": "StyleView",
            "background": null,
            "description_width": "",
            "font_size": null,
            "text_color": null
          }
        },
        "dd5813e8398b4ac5a5d1159427413c2a": {
          "model_module": "@jupyter-widgets/controls",
          "model_name": "HBoxModel",
          "model_module_version": "2.0.0",
          "state": {
            "_dom_classes": [],
            "_model_module": "@jupyter-widgets/controls",
            "_model_module_version": "2.0.0",
            "_model_name": "HBoxModel",
            "_view_count": null,
            "_view_module": "@jupyter-widgets/controls",
            "_view_module_version": "2.0.0",
            "_view_name": "HBoxView",
            "box_style": "",
            "children": [
              "IPY_MODEL_5392caaae2414b9eb739aec17b2ac7d7",
              "IPY_MODEL_ee8cb28becd74cd686fe6e4acdd7a8ea",
              "IPY_MODEL_72aa8ef6860c430981940afb17c05b51"
            ],
            "layout": "IPY_MODEL_eeaaaa64e8c54f69a169f850f9708280",
            "tabbable": null,
            "tooltip": null
          }
        },
        "5392caaae2414b9eb739aec17b2ac7d7": {
          "model_module": "@jupyter-widgets/controls",
          "model_name": "HTMLModel",
          "model_module_version": "2.0.0",
          "state": {
            "_dom_classes": [],
            "_model_module": "@jupyter-widgets/controls",
            "_model_module_version": "2.0.0",
            "_model_name": "HTMLModel",
            "_view_count": null,
            "_view_module": "@jupyter-widgets/controls",
            "_view_module_version": "2.0.0",
            "_view_name": "HTMLView",
            "description": "",
            "description_allow_html": false,
            "layout": "IPY_MODEL_566e97c919ea4ff4bdb3ac38cc86c40f",
            "placeholder": "​",
            "style": "IPY_MODEL_70e45f0ca0a843d1a48b18d32e993971",
            "tabbable": null,
            "tooltip": null,
            "value": "Generating embeddings: 100%"
          }
        },
        "ee8cb28becd74cd686fe6e4acdd7a8ea": {
          "model_module": "@jupyter-widgets/controls",
          "model_name": "FloatProgressModel",
          "model_module_version": "2.0.0",
          "state": {
            "_dom_classes": [],
            "_model_module": "@jupyter-widgets/controls",
            "_model_module_version": "2.0.0",
            "_model_name": "FloatProgressModel",
            "_view_count": null,
            "_view_module": "@jupyter-widgets/controls",
            "_view_module_version": "2.0.0",
            "_view_name": "ProgressView",
            "bar_style": "success",
            "description": "",
            "description_allow_html": false,
            "layout": "IPY_MODEL_16bc2bd1e3354a258c89275211b546dc",
            "max": 22,
            "min": 0,
            "orientation": "horizontal",
            "style": "IPY_MODEL_95b79b958c4847e987a8c972a37f5e9c",
            "tabbable": null,
            "tooltip": null,
            "value": 22
          }
        },
        "72aa8ef6860c430981940afb17c05b51": {
          "model_module": "@jupyter-widgets/controls",
          "model_name": "HTMLModel",
          "model_module_version": "2.0.0",
          "state": {
            "_dom_classes": [],
            "_model_module": "@jupyter-widgets/controls",
            "_model_module_version": "2.0.0",
            "_model_name": "HTMLModel",
            "_view_count": null,
            "_view_module": "@jupyter-widgets/controls",
            "_view_module_version": "2.0.0",
            "_view_name": "HTMLView",
            "description": "",
            "description_allow_html": false,
            "layout": "IPY_MODEL_d7cf1ccd795a4aeb868448d1e20a6688",
            "placeholder": "​",
            "style": "IPY_MODEL_66e9c6b140a146c295940a83180d7465",
            "tabbable": null,
            "tooltip": null,
            "value": " 22/22 [00:01&lt;00:00, 16.58it/s]"
          }
        },
        "eeaaaa64e8c54f69a169f850f9708280": {
          "model_module": "@jupyter-widgets/base",
          "model_name": "LayoutModel",
          "model_module_version": "2.0.0",
          "state": {
            "_model_module": "@jupyter-widgets/base",
            "_model_module_version": "2.0.0",
            "_model_name": "LayoutModel",
            "_view_count": null,
            "_view_module": "@jupyter-widgets/base",
            "_view_module_version": "2.0.0",
            "_view_name": "LayoutView",
            "align_content": null,
            "align_items": null,
            "align_self": null,
            "border_bottom": null,
            "border_left": null,
            "border_right": null,
            "border_top": null,
            "bottom": null,
            "display": null,
            "flex": null,
            "flex_flow": null,
            "grid_area": null,
            "grid_auto_columns": null,
            "grid_auto_flow": null,
            "grid_auto_rows": null,
            "grid_column": null,
            "grid_gap": null,
            "grid_row": null,
            "grid_template_areas": null,
            "grid_template_columns": null,
            "grid_template_rows": null,
            "height": null,
            "justify_content": null,
            "justify_items": null,
            "left": null,
            "margin": null,
            "max_height": null,
            "max_width": null,
            "min_height": null,
            "min_width": null,
            "object_fit": null,
            "object_position": null,
            "order": null,
            "overflow": null,
            "padding": null,
            "right": null,
            "top": null,
            "visibility": null,
            "width": null
          }
        },
        "566e97c919ea4ff4bdb3ac38cc86c40f": {
          "model_module": "@jupyter-widgets/base",
          "model_name": "LayoutModel",
          "model_module_version": "2.0.0",
          "state": {
            "_model_module": "@jupyter-widgets/base",
            "_model_module_version": "2.0.0",
            "_model_name": "LayoutModel",
            "_view_count": null,
            "_view_module": "@jupyter-widgets/base",
            "_view_module_version": "2.0.0",
            "_view_name": "LayoutView",
            "align_content": null,
            "align_items": null,
            "align_self": null,
            "border_bottom": null,
            "border_left": null,
            "border_right": null,
            "border_top": null,
            "bottom": null,
            "display": null,
            "flex": null,
            "flex_flow": null,
            "grid_area": null,
            "grid_auto_columns": null,
            "grid_auto_flow": null,
            "grid_auto_rows": null,
            "grid_column": null,
            "grid_gap": null,
            "grid_row": null,
            "grid_template_areas": null,
            "grid_template_columns": null,
            "grid_template_rows": null,
            "height": null,
            "justify_content": null,
            "justify_items": null,
            "left": null,
            "margin": null,
            "max_height": null,
            "max_width": null,
            "min_height": null,
            "min_width": null,
            "object_fit": null,
            "object_position": null,
            "order": null,
            "overflow": null,
            "padding": null,
            "right": null,
            "top": null,
            "visibility": null,
            "width": null
          }
        },
        "70e45f0ca0a843d1a48b18d32e993971": {
          "model_module": "@jupyter-widgets/controls",
          "model_name": "HTMLStyleModel",
          "model_module_version": "2.0.0",
          "state": {
            "_model_module": "@jupyter-widgets/controls",
            "_model_module_version": "2.0.0",
            "_model_name": "HTMLStyleModel",
            "_view_count": null,
            "_view_module": "@jupyter-widgets/base",
            "_view_module_version": "2.0.0",
            "_view_name": "StyleView",
            "background": null,
            "description_width": "",
            "font_size": null,
            "text_color": null
          }
        },
        "16bc2bd1e3354a258c89275211b546dc": {
          "model_module": "@jupyter-widgets/base",
          "model_name": "LayoutModel",
          "model_module_version": "2.0.0",
          "state": {
            "_model_module": "@jupyter-widgets/base",
            "_model_module_version": "2.0.0",
            "_model_name": "LayoutModel",
            "_view_count": null,
            "_view_module": "@jupyter-widgets/base",
            "_view_module_version": "2.0.0",
            "_view_name": "LayoutView",
            "align_content": null,
            "align_items": null,
            "align_self": null,
            "border_bottom": null,
            "border_left": null,
            "border_right": null,
            "border_top": null,
            "bottom": null,
            "display": null,
            "flex": null,
            "flex_flow": null,
            "grid_area": null,
            "grid_auto_columns": null,
            "grid_auto_flow": null,
            "grid_auto_rows": null,
            "grid_column": null,
            "grid_gap": null,
            "grid_row": null,
            "grid_template_areas": null,
            "grid_template_columns": null,
            "grid_template_rows": null,
            "height": null,
            "justify_content": null,
            "justify_items": null,
            "left": null,
            "margin": null,
            "max_height": null,
            "max_width": null,
            "min_height": null,
            "min_width": null,
            "object_fit": null,
            "object_position": null,
            "order": null,
            "overflow": null,
            "padding": null,
            "right": null,
            "top": null,
            "visibility": null,
            "width": null
          }
        },
        "95b79b958c4847e987a8c972a37f5e9c": {
          "model_module": "@jupyter-widgets/controls",
          "model_name": "ProgressStyleModel",
          "model_module_version": "2.0.0",
          "state": {
            "_model_module": "@jupyter-widgets/controls",
            "_model_module_version": "2.0.0",
            "_model_name": "ProgressStyleModel",
            "_view_count": null,
            "_view_module": "@jupyter-widgets/base",
            "_view_module_version": "2.0.0",
            "_view_name": "StyleView",
            "bar_color": null,
            "description_width": ""
          }
        },
        "d7cf1ccd795a4aeb868448d1e20a6688": {
          "model_module": "@jupyter-widgets/base",
          "model_name": "LayoutModel",
          "model_module_version": "2.0.0",
          "state": {
            "_model_module": "@jupyter-widgets/base",
            "_model_module_version": "2.0.0",
            "_model_name": "LayoutModel",
            "_view_count": null,
            "_view_module": "@jupyter-widgets/base",
            "_view_module_version": "2.0.0",
            "_view_name": "LayoutView",
            "align_content": null,
            "align_items": null,
            "align_self": null,
            "border_bottom": null,
            "border_left": null,
            "border_right": null,
            "border_top": null,
            "bottom": null,
            "display": null,
            "flex": null,
            "flex_flow": null,
            "grid_area": null,
            "grid_auto_columns": null,
            "grid_auto_flow": null,
            "grid_auto_rows": null,
            "grid_column": null,
            "grid_gap": null,
            "grid_row": null,
            "grid_template_areas": null,
            "grid_template_columns": null,
            "grid_template_rows": null,
            "height": null,
            "justify_content": null,
            "justify_items": null,
            "left": null,
            "margin": null,
            "max_height": null,
            "max_width": null,
            "min_height": null,
            "min_width": null,
            "object_fit": null,
            "object_position": null,
            "order": null,
            "overflow": null,
            "padding": null,
            "right": null,
            "top": null,
            "visibility": null,
            "width": null
          }
        },
        "66e9c6b140a146c295940a83180d7465": {
          "model_module": "@jupyter-widgets/controls",
          "model_name": "HTMLStyleModel",
          "model_module_version": "2.0.0",
          "state": {
            "_model_module": "@jupyter-widgets/controls",
            "_model_module_version": "2.0.0",
            "_model_name": "HTMLStyleModel",
            "_view_count": null,
            "_view_module": "@jupyter-widgets/base",
            "_view_module_version": "2.0.0",
            "_view_name": "StyleView",
            "background": null,
            "description_width": "",
            "font_size": null,
            "text_color": null
          }
        }
      }
    }
  },
  "cells": [
    {
      "cell_type": "code",
      "execution_count": 1,
      "metadata": {
        "id": "kb4C3B1Ytzm4",
        "colab": {
          "base_uri": "https://localhost:8080/"
        },
        "outputId": "83943b37-12f5-4b20-ee53-7a28e0d4b9a2"
      },
      "outputs": [
        {
          "output_type": "stream",
          "name": "stdout",
          "text": [
            "Collecting git+https://github.com/openai/CLIP.git\n",
            "  Cloning https://github.com/openai/CLIP.git to /tmp/pip-req-build-e75l1479\n",
            "  Running command git clone --filter=blob:none --quiet https://github.com/openai/CLIP.git /tmp/pip-req-build-e75l1479\n",
            "  Resolved https://github.com/openai/CLIP.git to commit a1d071733d7111c9c014f024669f959182114e33\n",
            "  Preparing metadata (setup.py) ... \u001b[?25l\u001b[?25hdone\n",
            "Requirement already satisfied: trulens_eval in /usr/local/lib/python3.10/dist-packages (0.18.3)\n",
            "Requirement already satisfied: llama_index in /usr/local/lib/python3.10/dist-packages (0.9.13)\n",
            "Requirement already satisfied: ftfy in /usr/local/lib/python3.10/dist-packages (6.1.3)\n",
            "Requirement already satisfied: regex in /usr/local/lib/python3.10/dist-packages (2023.6.3)\n",
            "Requirement already satisfied: tqdm in /usr/local/lib/python3.10/dist-packages (4.66.1)\n",
            "Requirement already satisfied: torch in /usr/local/lib/python3.10/dist-packages (2.1.0+cu118)\n",
            "Requirement already satisfied: torchvision in /usr/local/lib/python3.10/dist-packages (0.16.0+cu118)\n",
            "Requirement already satisfied: matplotlib in /usr/local/lib/python3.10/dist-packages (3.7.1)\n",
            "Requirement already satisfied: scikit-image in /usr/local/lib/python3.10/dist-packages (0.19.3)\n",
            "Requirement already satisfied: cohere>=4.4.1 in /usr/local/lib/python3.10/dist-packages (from trulens_eval) (4.37)\n",
            "Requirement already satisfied: datasets>=2.12.0 in /usr/local/lib/python3.10/dist-packages (from trulens_eval) (2.15.0)\n",
            "Requirement already satisfied: python-dotenv>=1.0.0 in /usr/local/lib/python3.10/dist-packages (from trulens_eval) (1.0.0)\n",
            "Requirement already satisfied: kaggle>=1.5.13 in /usr/local/lib/python3.10/dist-packages (from trulens_eval) (1.5.16)\n",
            "Requirement already satisfied: langchain>=0.0.335 in /usr/local/lib/python3.10/dist-packages (from trulens_eval) (0.0.348)\n",
            "Requirement already satisfied: typing-inspect>=0.8.0 in /usr/local/lib/python3.10/dist-packages (from trulens_eval) (0.9.0)\n",
            "Requirement already satisfied: typing-extensions>=4.5.0 in /usr/local/lib/python3.10/dist-packages (from trulens_eval) (4.5.0)\n",
            "Requirement already satisfied: html2text>=2020.1.16 in /usr/local/lib/python3.10/dist-packages (from trulens_eval) (2020.1.16)\n",
            "Requirement already satisfied: merkle-json>=1.0.0 in /usr/local/lib/python3.10/dist-packages (from trulens_eval) (1.0.0)\n",
            "Requirement already satisfied: millify>=0.1.1 in /usr/local/lib/python3.10/dist-packages (from trulens_eval) (0.1.1)\n",
            "Requirement already satisfied: openai<2,>=1.1.1 in /usr/local/lib/python3.10/dist-packages (from trulens_eval) (1.3.8)\n",
            "Requirement already satisfied: httpx>=0.23.3 in /usr/local/lib/python3.10/dist-packages (from trulens_eval) (0.25.2)\n",
            "Requirement already satisfied: pinecone-client>=2.2.1 in /usr/local/lib/python3.10/dist-packages (from trulens_eval) (2.2.4)\n",
            "Requirement already satisfied: pydantic<2,>=1.10.7 in /usr/local/lib/python3.10/dist-packages (from trulens_eval) (1.10.13)\n",
            "Requirement already satisfied: humanize>=4.6.0 in /usr/local/lib/python3.10/dist-packages (from trulens_eval) (4.7.0)\n",
            "Requirement already satisfied: slack-bolt>=1.18.0 in /usr/local/lib/python3.10/dist-packages (from trulens_eval) (1.18.1)\n",
            "Requirement already satisfied: slack-sdk>=3.21.3 in /usr/local/lib/python3.10/dist-packages (from trulens_eval) (3.26.1)\n",
            "Requirement already satisfied: streamlit>=1.27.0 in /usr/local/lib/python3.10/dist-packages (from trulens_eval) (1.29.0)\n",
            "Requirement already satisfied: streamlit-aggrid>=0.3.4.post3 in /usr/local/lib/python3.10/dist-packages (from trulens_eval) (0.3.4.post3)\n",
            "Requirement already satisfied: streamlit-extras>=0.2.7 in /usr/local/lib/python3.10/dist-packages (from trulens_eval) (0.3.5)\n",
            "Requirement already satisfied: streamlit-javascript>=0.1.5 in /usr/local/lib/python3.10/dist-packages (from trulens_eval) (0.1.5)\n",
            "Requirement already satisfied: transformers>=4.10.0 in /usr/local/lib/python3.10/dist-packages (from trulens_eval) (4.35.2)\n",
            "Requirement already satisfied: frozendict>=2.3.8 in /usr/local/lib/python3.10/dist-packages (from trulens_eval) (2.3.10)\n",
            "Requirement already satisfied: munch>=3.0.0 in /usr/local/lib/python3.10/dist-packages (from trulens_eval) (4.0.0)\n",
            "Requirement already satisfied: ipywidgets>=8.0.6 in /usr/local/lib/python3.10/dist-packages (from trulens_eval) (8.1.1)\n",
            "Requirement already satisfied: numpy>=1.23.5 in /usr/local/lib/python3.10/dist-packages (from trulens_eval) (1.23.5)\n",
            "Requirement already satisfied: sqlalchemy>=2.0.19 in /usr/local/lib/python3.10/dist-packages (from trulens_eval) (2.0.23)\n",
            "Requirement already satisfied: alembic>=1.11.2 in /usr/local/lib/python3.10/dist-packages (from trulens_eval) (1.13.0)\n",
            "Requirement already satisfied: aiohttp<4.0.0,>=3.8.6 in /usr/local/lib/python3.10/dist-packages (from llama_index) (3.9.1)\n",
            "Requirement already satisfied: aiostream<0.6.0,>=0.5.2 in /usr/local/lib/python3.10/dist-packages (from llama_index) (0.5.2)\n",
            "Requirement already satisfied: beautifulsoup4<5.0.0,>=4.12.2 in /usr/local/lib/python3.10/dist-packages (from llama_index) (4.12.2)\n",
            "Requirement already satisfied: dataclasses-json in /usr/local/lib/python3.10/dist-packages (from llama_index) (0.6.3)\n",
            "Requirement already satisfied: deprecated>=1.2.9.3 in /usr/local/lib/python3.10/dist-packages (from llama_index) (1.2.14)\n",
            "Requirement already satisfied: fsspec>=2023.5.0 in /usr/local/lib/python3.10/dist-packages (from llama_index) (2023.6.0)\n",
            "Requirement already satisfied: nest-asyncio<2.0.0,>=1.5.8 in /usr/local/lib/python3.10/dist-packages (from llama_index) (1.5.8)\n",
            "Requirement already satisfied: nltk<4.0.0,>=3.8.1 in /usr/local/lib/python3.10/dist-packages (from llama_index) (3.8.1)\n",
            "Requirement already satisfied: pandas in /usr/local/lib/python3.10/dist-packages (from llama_index) (1.5.3)\n",
            "Requirement already satisfied: requests>=2.31.0 in /usr/local/lib/python3.10/dist-packages (from llama_index) (2.31.0)\n",
            "Requirement already satisfied: tenacity<9.0.0,>=8.2.0 in /usr/local/lib/python3.10/dist-packages (from llama_index) (8.2.3)\n",
            "Requirement already satisfied: tiktoken>=0.3.3 in /usr/local/lib/python3.10/dist-packages (from llama_index) (0.5.2)\n",
            "Requirement already satisfied: wcwidth<0.3.0,>=0.2.12 in /usr/local/lib/python3.10/dist-packages (from ftfy) (0.2.12)\n",
            "Requirement already satisfied: filelock in /usr/local/lib/python3.10/dist-packages (from torch) (3.13.1)\n",
            "Requirement already satisfied: sympy in /usr/local/lib/python3.10/dist-packages (from torch) (1.12)\n",
            "Requirement already satisfied: networkx in /usr/local/lib/python3.10/dist-packages (from torch) (3.2.1)\n",
            "Requirement already satisfied: jinja2 in /usr/local/lib/python3.10/dist-packages (from torch) (3.1.2)\n",
            "Requirement already satisfied: triton==2.1.0 in /usr/local/lib/python3.10/dist-packages (from torch) (2.1.0)\n",
            "Requirement already satisfied: pillow!=8.3.*,>=5.3.0 in /usr/local/lib/python3.10/dist-packages (from torchvision) (9.4.0)\n",
            "Requirement already satisfied: contourpy>=1.0.1 in /usr/local/lib/python3.10/dist-packages (from matplotlib) (1.2.0)\n",
            "Requirement already satisfied: cycler>=0.10 in /usr/local/lib/python3.10/dist-packages (from matplotlib) (0.12.1)\n",
            "Requirement already satisfied: fonttools>=4.22.0 in /usr/local/lib/python3.10/dist-packages (from matplotlib) (4.45.1)\n",
            "Requirement already satisfied: kiwisolver>=1.0.1 in /usr/local/lib/python3.10/dist-packages (from matplotlib) (1.4.5)\n",
            "Requirement already satisfied: packaging>=20.0 in /usr/local/lib/python3.10/dist-packages (from matplotlib) (23.2)\n",
            "Requirement already satisfied: pyparsing>=2.3.1 in /usr/local/lib/python3.10/dist-packages (from matplotlib) (3.1.1)\n",
            "Requirement already satisfied: python-dateutil>=2.7 in /usr/local/lib/python3.10/dist-packages (from matplotlib) (2.8.2)\n",
            "Requirement already satisfied: scipy>=1.4.1 in /usr/local/lib/python3.10/dist-packages (from scikit-image) (1.11.4)\n",
            "Requirement already satisfied: imageio>=2.4.1 in /usr/local/lib/python3.10/dist-packages (from scikit-image) (2.31.6)\n",
            "Requirement already satisfied: tifffile>=2019.7.26 in /usr/local/lib/python3.10/dist-packages (from scikit-image) (2023.9.26)\n",
            "Requirement already satisfied: PyWavelets>=1.1.1 in /usr/local/lib/python3.10/dist-packages (from scikit-image) (1.5.0)\n",
            "Requirement already satisfied: attrs>=17.3.0 in /usr/local/lib/python3.10/dist-packages (from aiohttp<4.0.0,>=3.8.6->llama_index) (23.1.0)\n",
            "Requirement already satisfied: multidict<7.0,>=4.5 in /usr/local/lib/python3.10/dist-packages (from aiohttp<4.0.0,>=3.8.6->llama_index) (6.0.4)\n",
            "Requirement already satisfied: yarl<2.0,>=1.0 in /usr/local/lib/python3.10/dist-packages (from aiohttp<4.0.0,>=3.8.6->llama_index) (1.9.3)\n",
            "Requirement already satisfied: frozenlist>=1.1.1 in /usr/local/lib/python3.10/dist-packages (from aiohttp<4.0.0,>=3.8.6->llama_index) (1.4.0)\n",
            "Requirement already satisfied: aiosignal>=1.1.2 in /usr/local/lib/python3.10/dist-packages (from aiohttp<4.0.0,>=3.8.6->llama_index) (1.3.1)\n",
            "Requirement already satisfied: async-timeout<5.0,>=4.0 in /usr/local/lib/python3.10/dist-packages (from aiohttp<4.0.0,>=3.8.6->llama_index) (4.0.3)\n",
            "Requirement already satisfied: Mako in /usr/local/lib/python3.10/dist-packages (from alembic>=1.11.2->trulens_eval) (1.3.0)\n",
            "Requirement already satisfied: soupsieve>1.2 in /usr/local/lib/python3.10/dist-packages (from beautifulsoup4<5.0.0,>=4.12.2->llama_index) (2.5)\n",
            "Requirement already satisfied: backoff<3.0,>=2.0 in /usr/local/lib/python3.10/dist-packages (from cohere>=4.4.1->trulens_eval) (2.2.1)\n",
            "Requirement already satisfied: fastavro<2.0,>=1.8 in /usr/local/lib/python3.10/dist-packages (from cohere>=4.4.1->trulens_eval) (1.9.1)\n",
            "Requirement already satisfied: importlib_metadata<7.0,>=6.0 in /usr/local/lib/python3.10/dist-packages (from cohere>=4.4.1->trulens_eval) (6.8.0)\n",
            "Requirement already satisfied: urllib3<3,>=1.26 in /usr/local/lib/python3.10/dist-packages (from cohere>=4.4.1->trulens_eval) (2.0.7)\n",
            "Requirement already satisfied: pyarrow>=8.0.0 in /usr/local/lib/python3.10/dist-packages (from datasets>=2.12.0->trulens_eval) (14.0.1)\n",
            "Requirement already satisfied: pyarrow-hotfix in /usr/local/lib/python3.10/dist-packages (from datasets>=2.12.0->trulens_eval) (0.6)\n",
            "Requirement already satisfied: dill<0.3.8,>=0.3.0 in /usr/local/lib/python3.10/dist-packages (from datasets>=2.12.0->trulens_eval) (0.3.7)\n",
            "Requirement already satisfied: xxhash in /usr/local/lib/python3.10/dist-packages (from datasets>=2.12.0->trulens_eval) (3.4.1)\n",
            "Requirement already satisfied: multiprocess in /usr/local/lib/python3.10/dist-packages (from datasets>=2.12.0->trulens_eval) (0.70.15)\n",
            "Requirement already satisfied: huggingface-hub>=0.18.0 in /usr/local/lib/python3.10/dist-packages (from datasets>=2.12.0->trulens_eval) (0.19.4)\n",
            "Requirement already satisfied: pyyaml>=5.1 in /usr/local/lib/python3.10/dist-packages (from datasets>=2.12.0->trulens_eval) (6.0.1)\n",
            "Requirement already satisfied: wrapt<2,>=1.10 in /usr/local/lib/python3.10/dist-packages (from deprecated>=1.2.9.3->llama_index) (1.14.1)\n",
            "Requirement already satisfied: anyio in /usr/local/lib/python3.10/dist-packages (from httpx>=0.23.3->trulens_eval) (3.7.1)\n",
            "Requirement already satisfied: certifi in /usr/local/lib/python3.10/dist-packages (from httpx>=0.23.3->trulens_eval) (2023.11.17)\n",
            "Requirement already satisfied: httpcore==1.* in /usr/local/lib/python3.10/dist-packages (from httpx>=0.23.3->trulens_eval) (1.0.2)\n",
            "Requirement already satisfied: idna in /usr/local/lib/python3.10/dist-packages (from httpx>=0.23.3->trulens_eval) (3.6)\n",
            "Requirement already satisfied: sniffio in /usr/local/lib/python3.10/dist-packages (from httpx>=0.23.3->trulens_eval) (1.3.0)\n",
            "Requirement already satisfied: h11<0.15,>=0.13 in /usr/local/lib/python3.10/dist-packages (from httpcore==1.*->httpx>=0.23.3->trulens_eval) (0.14.0)\n",
            "Requirement already satisfied: comm>=0.1.3 in /usr/local/lib/python3.10/dist-packages (from ipywidgets>=8.0.6->trulens_eval) (0.2.0)\n",
            "Requirement already satisfied: ipython>=6.1.0 in /usr/local/lib/python3.10/dist-packages (from ipywidgets>=8.0.6->trulens_eval) (7.34.0)\n",
            "Requirement already satisfied: traitlets>=4.3.1 in /usr/local/lib/python3.10/dist-packages (from ipywidgets>=8.0.6->trulens_eval) (5.7.1)\n",
            "Requirement already satisfied: widgetsnbextension~=4.0.9 in /usr/local/lib/python3.10/dist-packages (from ipywidgets>=8.0.6->trulens_eval) (4.0.9)\n",
            "Requirement already satisfied: jupyterlab-widgets~=3.0.9 in /usr/local/lib/python3.10/dist-packages (from ipywidgets>=8.0.6->trulens_eval) (3.0.9)\n",
            "Requirement already satisfied: six>=1.10 in /usr/local/lib/python3.10/dist-packages (from kaggle>=1.5.13->trulens_eval) (1.16.0)\n",
            "Requirement already satisfied: python-slugify in /usr/local/lib/python3.10/dist-packages (from kaggle>=1.5.13->trulens_eval) (8.0.1)\n",
            "Requirement already satisfied: bleach in /usr/local/lib/python3.10/dist-packages (from kaggle>=1.5.13->trulens_eval) (6.1.0)\n",
            "Requirement already satisfied: jsonpatch<2.0,>=1.33 in /usr/local/lib/python3.10/dist-packages (from langchain>=0.0.335->trulens_eval) (1.33)\n",
            "Requirement already satisfied: langchain-core<0.1,>=0.0.12 in /usr/local/lib/python3.10/dist-packages (from langchain>=0.0.335->trulens_eval) (0.0.12)\n",
            "Requirement already satisfied: langsmith<0.1.0,>=0.0.63 in /usr/local/lib/python3.10/dist-packages (from langchain>=0.0.335->trulens_eval) (0.0.69)\n",
            "Requirement already satisfied: marshmallow<4.0.0,>=3.18.0 in /usr/local/lib/python3.10/dist-packages (from dataclasses-json->llama_index) (3.20.1)\n",
            "Requirement already satisfied: click in /usr/local/lib/python3.10/dist-packages (from nltk<4.0.0,>=3.8.1->llama_index) (8.1.7)\n",
            "Requirement already satisfied: joblib in /usr/local/lib/python3.10/dist-packages (from nltk<4.0.0,>=3.8.1->llama_index) (1.3.2)\n",
            "Requirement already satisfied: distro<2,>=1.7.0 in /usr/lib/python3/dist-packages (from openai<2,>=1.1.1->trulens_eval) (1.7.0)\n",
            "Requirement already satisfied: loguru>=0.5.0 in /usr/local/lib/python3.10/dist-packages (from pinecone-client>=2.2.1->trulens_eval) (0.7.2)\n",
            "Requirement already satisfied: dnspython>=2.0.0 in /usr/local/lib/python3.10/dist-packages (from pinecone-client>=2.2.1->trulens_eval) (2.4.2)\n",
            "Requirement already satisfied: charset-normalizer<4,>=2 in /usr/local/lib/python3.10/dist-packages (from requests>=2.31.0->llama_index) (3.3.2)\n",
            "Requirement already satisfied: greenlet!=0.4.17 in /usr/local/lib/python3.10/dist-packages (from sqlalchemy>=2.0.19->trulens_eval) (3.0.1)\n",
            "Requirement already satisfied: altair<6,>=4.0 in /usr/local/lib/python3.10/dist-packages (from streamlit>=1.27.0->trulens_eval) (4.2.2)\n",
            "Requirement already satisfied: blinker<2,>=1.0.0 in /usr/lib/python3/dist-packages (from streamlit>=1.27.0->trulens_eval) (1.4)\n",
            "Requirement already satisfied: cachetools<6,>=4.0 in /usr/local/lib/python3.10/dist-packages (from streamlit>=1.27.0->trulens_eval) (5.3.2)\n",
            "Requirement already satisfied: protobuf<5,>=3.20 in /usr/local/lib/python3.10/dist-packages (from streamlit>=1.27.0->trulens_eval) (3.20.3)\n",
            "Requirement already satisfied: rich<14,>=10.14.0 in /usr/local/lib/python3.10/dist-packages (from streamlit>=1.27.0->trulens_eval) (13.7.0)\n",
            "Requirement already satisfied: toml<2,>=0.10.1 in /usr/local/lib/python3.10/dist-packages (from streamlit>=1.27.0->trulens_eval) (0.10.2)\n",
            "Requirement already satisfied: tzlocal<6,>=1.1 in /usr/local/lib/python3.10/dist-packages (from streamlit>=1.27.0->trulens_eval) (5.2)\n",
            "Requirement already satisfied: validators<1,>=0.2 in /usr/local/lib/python3.10/dist-packages (from streamlit>=1.27.0->trulens_eval) (0.22.0)\n",
            "Requirement already satisfied: gitpython!=3.1.19,<4,>=3.0.7 in /usr/local/lib/python3.10/dist-packages (from streamlit>=1.27.0->trulens_eval) (3.1.40)\n",
            "Requirement already satisfied: pydeck<1,>=0.8.0b4 in /usr/local/lib/python3.10/dist-packages (from streamlit>=1.27.0->trulens_eval) (0.8.1b0)\n",
            "Requirement already satisfied: tornado<7,>=6.0.3 in /usr/local/lib/python3.10/dist-packages (from streamlit>=1.27.0->trulens_eval) (6.3.2)\n",
            "Requirement already satisfied: watchdog>=2.1.5 in /usr/local/lib/python3.10/dist-packages (from streamlit>=1.27.0->trulens_eval) (3.0.0)\n",
            "Requirement already satisfied: pytz>=2020.1 in /usr/local/lib/python3.10/dist-packages (from pandas->llama_index) (2023.3.post1)\n",
            "Requirement already satisfied: python-decouple<4.0,>=3.6 in /usr/local/lib/python3.10/dist-packages (from streamlit-aggrid>=0.3.4.post3->trulens_eval) (3.8)\n",
            "Requirement already satisfied: entrypoints>=0.4 in /usr/local/lib/python3.10/dist-packages (from streamlit-extras>=0.2.7->trulens_eval) (0.4)\n",
            "Requirement already satisfied: htbuilder>=0.6.2 in /usr/local/lib/python3.10/dist-packages (from streamlit-extras>=0.2.7->trulens_eval) (0.6.2)\n",
            "Requirement already satisfied: markdownlit>=0.0.5 in /usr/local/lib/python3.10/dist-packages (from streamlit-extras>=0.2.7->trulens_eval) (0.0.7)\n",
            "Requirement already satisfied: st-annotated-text>=3.0.0 in /usr/local/lib/python3.10/dist-packages (from streamlit-extras>=0.2.7->trulens_eval) (4.0.1)\n",
            "Requirement already satisfied: streamlit-camera-input-live>=0.2.0 in /usr/local/lib/python3.10/dist-packages (from streamlit-extras>=0.2.7->trulens_eval) (0.2.0)\n",
            "Requirement already satisfied: streamlit-card>=0.0.4 in /usr/local/lib/python3.10/dist-packages (from streamlit-extras>=0.2.7->trulens_eval) (1.0.0)\n",
            "Requirement already satisfied: streamlit-embedcode>=0.1.2 in /usr/local/lib/python3.10/dist-packages (from streamlit-extras>=0.2.7->trulens_eval) (0.1.2)\n",
            "Requirement already satisfied: streamlit-faker>=0.0.2 in /usr/local/lib/python3.10/dist-packages (from streamlit-extras>=0.2.7->trulens_eval) (0.0.3)\n",
            "Requirement already satisfied: streamlit-image-coordinates<0.2.0,>=0.1.1 in /usr/local/lib/python3.10/dist-packages (from streamlit-extras>=0.2.7->trulens_eval) (0.1.6)\n",
            "Requirement already satisfied: streamlit-keyup>=0.1.9 in /usr/local/lib/python3.10/dist-packages (from streamlit-extras>=0.2.7->trulens_eval) (0.2.2)\n",
            "Requirement already satisfied: streamlit-toggle-switch>=1.0.2 in /usr/local/lib/python3.10/dist-packages (from streamlit-extras>=0.2.7->trulens_eval) (1.0.2)\n",
            "Requirement already satisfied: streamlit-vertical-slider>=1.0.2 in /usr/local/lib/python3.10/dist-packages (from streamlit-extras>=0.2.7->trulens_eval) (1.0.2)\n",
            "Requirement already satisfied: tokenizers<0.19,>=0.14 in /usr/local/lib/python3.10/dist-packages (from transformers>=4.10.0->trulens_eval) (0.15.0)\n",
            "Requirement already satisfied: safetensors>=0.3.1 in /usr/local/lib/python3.10/dist-packages (from transformers>=4.10.0->trulens_eval) (0.4.1)\n",
            "Requirement already satisfied: mypy-extensions>=0.3.0 in /usr/local/lib/python3.10/dist-packages (from typing-inspect>=0.8.0->trulens_eval) (1.0.0)\n",
            "Requirement already satisfied: MarkupSafe>=2.0 in /usr/local/lib/python3.10/dist-packages (from jinja2->torch) (2.1.3)\n",
            "Requirement already satisfied: mpmath>=0.19 in /usr/local/lib/python3.10/dist-packages (from sympy->torch) (1.3.0)\n",
            "Requirement already satisfied: jsonschema>=3.0 in /usr/local/lib/python3.10/dist-packages (from altair<6,>=4.0->streamlit>=1.27.0->trulens_eval) (4.19.2)\n",
            "Requirement already satisfied: toolz in /usr/local/lib/python3.10/dist-packages (from altair<6,>=4.0->streamlit>=1.27.0->trulens_eval) (0.12.0)\n",
            "Requirement already satisfied: exceptiongroup in /usr/local/lib/python3.10/dist-packages (from anyio->httpx>=0.23.3->trulens_eval) (1.2.0)\n",
            "Requirement already satisfied: gitdb<5,>=4.0.1 in /usr/local/lib/python3.10/dist-packages (from gitpython!=3.1.19,<4,>=3.0.7->streamlit>=1.27.0->trulens_eval) (4.0.11)\n",
            "Requirement already satisfied: more-itertools in /usr/local/lib/python3.10/dist-packages (from htbuilder>=0.6.2->streamlit-extras>=0.2.7->trulens_eval) (10.1.0)\n",
            "Requirement already satisfied: zipp>=0.5 in /usr/local/lib/python3.10/dist-packages (from importlib_metadata<7.0,>=6.0->cohere>=4.4.1->trulens_eval) (3.17.0)\n",
            "Requirement already satisfied: setuptools>=18.5 in /usr/local/lib/python3.10/dist-packages (from ipython>=6.1.0->ipywidgets>=8.0.6->trulens_eval) (67.7.2)\n",
            "Requirement already satisfied: jedi>=0.16 in /usr/local/lib/python3.10/dist-packages (from ipython>=6.1.0->ipywidgets>=8.0.6->trulens_eval) (0.19.1)\n",
            "Requirement already satisfied: decorator in /usr/local/lib/python3.10/dist-packages (from ipython>=6.1.0->ipywidgets>=8.0.6->trulens_eval) (4.4.2)\n",
            "Requirement already satisfied: pickleshare in /usr/local/lib/python3.10/dist-packages (from ipython>=6.1.0->ipywidgets>=8.0.6->trulens_eval) (0.7.5)\n",
            "Requirement already satisfied: prompt-toolkit!=3.0.0,!=3.0.1,<3.1.0,>=2.0.0 in /usr/local/lib/python3.10/dist-packages (from ipython>=6.1.0->ipywidgets>=8.0.6->trulens_eval) (3.0.41)\n",
            "Requirement already satisfied: pygments in /usr/local/lib/python3.10/dist-packages (from ipython>=6.1.0->ipywidgets>=8.0.6->trulens_eval) (2.16.1)\n",
            "Requirement already satisfied: backcall in /usr/local/lib/python3.10/dist-packages (from ipython>=6.1.0->ipywidgets>=8.0.6->trulens_eval) (0.2.0)\n",
            "Requirement already satisfied: matplotlib-inline in /usr/local/lib/python3.10/dist-packages (from ipython>=6.1.0->ipywidgets>=8.0.6->trulens_eval) (0.1.6)\n",
            "Requirement already satisfied: pexpect>4.3 in /usr/local/lib/python3.10/dist-packages (from ipython>=6.1.0->ipywidgets>=8.0.6->trulens_eval) (4.9.0)\n",
            "Requirement already satisfied: jsonpointer>=1.9 in /usr/local/lib/python3.10/dist-packages (from jsonpatch<2.0,>=1.33->langchain>=0.0.335->trulens_eval) (2.4)\n",
            "Requirement already satisfied: markdown in /usr/local/lib/python3.10/dist-packages (from markdownlit>=0.0.5->streamlit-extras>=0.2.7->trulens_eval) (3.5.1)\n",
            "Requirement already satisfied: lxml in /usr/local/lib/python3.10/dist-packages (from markdownlit>=0.0.5->streamlit-extras>=0.2.7->trulens_eval) (4.9.3)\n",
            "Requirement already satisfied: favicon in /usr/local/lib/python3.10/dist-packages (from markdownlit>=0.0.5->streamlit-extras>=0.2.7->trulens_eval) (0.7.0)\n",
            "Requirement already satisfied: pymdown-extensions in /usr/local/lib/python3.10/dist-packages (from markdownlit>=0.0.5->streamlit-extras>=0.2.7->trulens_eval) (10.5)\n",
            "Requirement already satisfied: markdown-it-py>=2.2.0 in /usr/local/lib/python3.10/dist-packages (from rich<14,>=10.14.0->streamlit>=1.27.0->trulens_eval) (3.0.0)\n",
            "Requirement already satisfied: faker in /usr/local/lib/python3.10/dist-packages (from streamlit-faker>=0.0.2->streamlit-extras>=0.2.7->trulens_eval) (20.1.0)\n",
            "Requirement already satisfied: webencodings in /usr/local/lib/python3.10/dist-packages (from bleach->kaggle>=1.5.13->trulens_eval) (0.5.1)\n",
            "Requirement already satisfied: text-unidecode>=1.3 in /usr/local/lib/python3.10/dist-packages (from python-slugify->kaggle>=1.5.13->trulens_eval) (1.3)\n",
            "Requirement already satisfied: smmap<6,>=3.0.1 in /usr/local/lib/python3.10/dist-packages (from gitdb<5,>=4.0.1->gitpython!=3.1.19,<4,>=3.0.7->streamlit>=1.27.0->trulens_eval) (5.0.1)\n",
            "Requirement already satisfied: parso<0.9.0,>=0.8.3 in /usr/local/lib/python3.10/dist-packages (from jedi>=0.16->ipython>=6.1.0->ipywidgets>=8.0.6->trulens_eval) (0.8.3)\n",
            "Requirement already satisfied: jsonschema-specifications>=2023.03.6 in /usr/local/lib/python3.10/dist-packages (from jsonschema>=3.0->altair<6,>=4.0->streamlit>=1.27.0->trulens_eval) (2023.11.2)\n",
            "Requirement already satisfied: referencing>=0.28.4 in /usr/local/lib/python3.10/dist-packages (from jsonschema>=3.0->altair<6,>=4.0->streamlit>=1.27.0->trulens_eval) (0.31.1)\n",
            "Requirement already satisfied: rpds-py>=0.7.1 in /usr/local/lib/python3.10/dist-packages (from jsonschema>=3.0->altair<6,>=4.0->streamlit>=1.27.0->trulens_eval) (0.13.2)\n",
            "Requirement already satisfied: mdurl~=0.1 in /usr/local/lib/python3.10/dist-packages (from markdown-it-py>=2.2.0->rich<14,>=10.14.0->streamlit>=1.27.0->trulens_eval) (0.1.2)\n",
            "Requirement already satisfied: ptyprocess>=0.5 in /usr/local/lib/python3.10/dist-packages (from pexpect>4.3->ipython>=6.1.0->ipywidgets>=8.0.6->trulens_eval) (0.7.0)\n"
          ]
        }
      ],
      "source": [
        "! pip install trulens_eval llama_index ftfy regex tqdm git+https://github.com/openai/CLIP.git torch torchvision matplotlib scikit-image"
      ]
    },
    {
      "cell_type": "code",
      "source": [
        "!pip install matplotlib scikit-image -q\n"
      ],
      "metadata": {
        "id": "siZ_6s8TzabE"
      },
      "execution_count": 2,
      "outputs": []
    },
    {
      "cell_type": "code",
      "source": [
        "!pip install pyarrow>=12.0.0"
      ],
      "metadata": {
        "id": "4fCUWJyq1uRV"
      },
      "execution_count": 3,
      "outputs": []
    },
    {
      "cell_type": "code",
      "source": [
        "!pip install milvus pymilvus -q  # for Milvus\n"
      ],
      "metadata": {
        "id": "3JpPgj66zqfO"
      },
      "execution_count": 4,
      "outputs": []
    },
    {
      "cell_type": "code",
      "source": [
        "from PIL import Image\n",
        "import matplotlib.pyplot as plt\n",
        "import pandas as pd"
      ],
      "metadata": {
        "id": "26xbUd2l86Si"
      },
      "execution_count": 5,
      "outputs": []
    },
    {
      "cell_type": "code",
      "source": [
        "!pip install pypdf"
      ],
      "metadata": {
        "colab": {
          "base_uri": "https://localhost:8080/"
        },
        "id": "ZdvxAKh8WxRY",
        "outputId": "e11f2faa-2c64-4af2-f5ac-3f34455a3b06"
      },
      "execution_count": 6,
      "outputs": [
        {
          "output_type": "stream",
          "name": "stdout",
          "text": [
            "Requirement already satisfied: pypdf in /usr/local/lib/python3.10/dist-packages (3.17.2)\n"
          ]
        }
      ]
    },
    {
      "cell_type": "code",
      "source": [
        "!pip install replicate"
      ],
      "metadata": {
        "colab": {
          "base_uri": "https://localhost:8080/"
        },
        "id": "vGBK6V3Ucny1",
        "outputId": "a35eaef5-66f6-47f3-af80-bc738e4f8697"
      },
      "execution_count": 7,
      "outputs": [
        {
          "output_type": "stream",
          "name": "stdout",
          "text": [
            "Requirement already satisfied: replicate in /usr/local/lib/python3.10/dist-packages (0.22.0)\n",
            "Requirement already satisfied: httpx<1,>=0.21.0 in /usr/local/lib/python3.10/dist-packages (from replicate) (0.25.2)\n",
            "Requirement already satisfied: packaging in /usr/local/lib/python3.10/dist-packages (from replicate) (23.2)\n",
            "Requirement already satisfied: pydantic>1 in /usr/local/lib/python3.10/dist-packages (from replicate) (1.10.13)\n",
            "Requirement already satisfied: typing-extensions>=4.5.0 in /usr/local/lib/python3.10/dist-packages (from replicate) (4.5.0)\n",
            "Requirement already satisfied: anyio in /usr/local/lib/python3.10/dist-packages (from httpx<1,>=0.21.0->replicate) (3.7.1)\n",
            "Requirement already satisfied: certifi in /usr/local/lib/python3.10/dist-packages (from httpx<1,>=0.21.0->replicate) (2023.11.17)\n",
            "Requirement already satisfied: httpcore==1.* in /usr/local/lib/python3.10/dist-packages (from httpx<1,>=0.21.0->replicate) (1.0.2)\n",
            "Requirement already satisfied: idna in /usr/local/lib/python3.10/dist-packages (from httpx<1,>=0.21.0->replicate) (3.6)\n",
            "Requirement already satisfied: sniffio in /usr/local/lib/python3.10/dist-packages (from httpx<1,>=0.21.0->replicate) (1.3.0)\n",
            "Requirement already satisfied: h11<0.15,>=0.13 in /usr/local/lib/python3.10/dist-packages (from httpcore==1.*->httpx<1,>=0.21.0->replicate) (0.14.0)\n",
            "Requirement already satisfied: exceptiongroup in /usr/local/lib/python3.10/dist-packages (from anyio->httpx<1,>=0.21.0->replicate) (1.2.0)\n"
          ]
        }
      ]
    },
    {
      "cell_type": "code",
      "source": [
        "!pip install transformers"
      ],
      "metadata": {
        "colab": {
          "base_uri": "https://localhost:8080/"
        },
        "id": "fUhJt4TTzjsv",
        "outputId": "94de57af-196e-44e0-ac07-d933d0406145"
      },
      "execution_count": 8,
      "outputs": [
        {
          "output_type": "stream",
          "name": "stdout",
          "text": [
            "Requirement already satisfied: transformers in /usr/local/lib/python3.10/dist-packages (4.35.2)\n",
            "Requirement already satisfied: filelock in /usr/local/lib/python3.10/dist-packages (from transformers) (3.13.1)\n",
            "Requirement already satisfied: huggingface-hub<1.0,>=0.16.4 in /usr/local/lib/python3.10/dist-packages (from transformers) (0.19.4)\n",
            "Requirement already satisfied: numpy>=1.17 in /usr/local/lib/python3.10/dist-packages (from transformers) (1.23.5)\n",
            "Requirement already satisfied: packaging>=20.0 in /usr/local/lib/python3.10/dist-packages (from transformers) (23.2)\n",
            "Requirement already satisfied: pyyaml>=5.1 in /usr/local/lib/python3.10/dist-packages (from transformers) (6.0.1)\n",
            "Requirement already satisfied: regex!=2019.12.17 in /usr/local/lib/python3.10/dist-packages (from transformers) (2023.6.3)\n",
            "Requirement already satisfied: requests in /usr/local/lib/python3.10/dist-packages (from transformers) (2.31.0)\n",
            "Requirement already satisfied: tokenizers<0.19,>=0.14 in /usr/local/lib/python3.10/dist-packages (from transformers) (0.15.0)\n",
            "Requirement already satisfied: safetensors>=0.3.1 in /usr/local/lib/python3.10/dist-packages (from transformers) (0.4.1)\n",
            "Requirement already satisfied: tqdm>=4.27 in /usr/local/lib/python3.10/dist-packages (from transformers) (4.66.1)\n",
            "Requirement already satisfied: fsspec>=2023.5.0 in /usr/local/lib/python3.10/dist-packages (from huggingface-hub<1.0,>=0.16.4->transformers) (2023.6.0)\n",
            "Requirement already satisfied: typing-extensions>=3.7.4.3 in /usr/local/lib/python3.10/dist-packages (from huggingface-hub<1.0,>=0.16.4->transformers) (4.5.0)\n",
            "Requirement already satisfied: charset-normalizer<4,>=2 in /usr/local/lib/python3.10/dist-packages (from requests->transformers) (3.3.2)\n",
            "Requirement already satisfied: idna<4,>=2.5 in /usr/local/lib/python3.10/dist-packages (from requests->transformers) (3.6)\n",
            "Requirement already satisfied: urllib3<3,>=1.21.1 in /usr/local/lib/python3.10/dist-packages (from requests->transformers) (2.0.7)\n",
            "Requirement already satisfied: certifi>=2017.4.17 in /usr/local/lib/python3.10/dist-packages (from requests->transformers) (2023.11.17)\n"
          ]
        }
      ]
    },
    {
      "cell_type": "code",
      "source": [
        "!pip install accelerate"
      ],
      "metadata": {
        "colab": {
          "base_uri": "https://localhost:8080/"
        },
        "id": "NUq4YFR40-Ks",
        "outputId": "5ff2722b-4ec0-4e00-d609-6b0c0c788abf"
      },
      "execution_count": 9,
      "outputs": [
        {
          "output_type": "stream",
          "name": "stdout",
          "text": [
            "Requirement already satisfied: accelerate in /usr/local/lib/python3.10/dist-packages (0.25.0)\n",
            "Requirement already satisfied: numpy>=1.17 in /usr/local/lib/python3.10/dist-packages (from accelerate) (1.23.5)\n",
            "Requirement already satisfied: packaging>=20.0 in /usr/local/lib/python3.10/dist-packages (from accelerate) (23.2)\n",
            "Requirement already satisfied: psutil in /usr/local/lib/python3.10/dist-packages (from accelerate) (5.9.5)\n",
            "Requirement already satisfied: pyyaml in /usr/local/lib/python3.10/dist-packages (from accelerate) (6.0.1)\n",
            "Requirement already satisfied: torch>=1.10.0 in /usr/local/lib/python3.10/dist-packages (from accelerate) (2.1.0+cu118)\n",
            "Requirement already satisfied: huggingface-hub in /usr/local/lib/python3.10/dist-packages (from accelerate) (0.19.4)\n",
            "Requirement already satisfied: safetensors>=0.3.1 in /usr/local/lib/python3.10/dist-packages (from accelerate) (0.4.1)\n",
            "Requirement already satisfied: filelock in /usr/local/lib/python3.10/dist-packages (from torch>=1.10.0->accelerate) (3.13.1)\n",
            "Requirement already satisfied: typing-extensions in /usr/local/lib/python3.10/dist-packages (from torch>=1.10.0->accelerate) (4.5.0)\n",
            "Requirement already satisfied: sympy in /usr/local/lib/python3.10/dist-packages (from torch>=1.10.0->accelerate) (1.12)\n",
            "Requirement already satisfied: networkx in /usr/local/lib/python3.10/dist-packages (from torch>=1.10.0->accelerate) (3.2.1)\n",
            "Requirement already satisfied: jinja2 in /usr/local/lib/python3.10/dist-packages (from torch>=1.10.0->accelerate) (3.1.2)\n",
            "Requirement already satisfied: fsspec in /usr/local/lib/python3.10/dist-packages (from torch>=1.10.0->accelerate) (2023.6.0)\n",
            "Requirement already satisfied: triton==2.1.0 in /usr/local/lib/python3.10/dist-packages (from torch>=1.10.0->accelerate) (2.1.0)\n",
            "Requirement already satisfied: requests in /usr/local/lib/python3.10/dist-packages (from huggingface-hub->accelerate) (2.31.0)\n",
            "Requirement already satisfied: tqdm>=4.42.1 in /usr/local/lib/python3.10/dist-packages (from huggingface-hub->accelerate) (4.66.1)\n",
            "Requirement already satisfied: MarkupSafe>=2.0 in /usr/local/lib/python3.10/dist-packages (from jinja2->torch>=1.10.0->accelerate) (2.1.3)\n",
            "Requirement already satisfied: charset-normalizer<4,>=2 in /usr/local/lib/python3.10/dist-packages (from requests->huggingface-hub->accelerate) (3.3.2)\n",
            "Requirement already satisfied: idna<4,>=2.5 in /usr/local/lib/python3.10/dist-packages (from requests->huggingface-hub->accelerate) (3.6)\n",
            "Requirement already satisfied: urllib3<3,>=1.21.1 in /usr/local/lib/python3.10/dist-packages (from requests->huggingface-hub->accelerate) (2.0.7)\n",
            "Requirement already satisfied: certifi>=2017.4.17 in /usr/local/lib/python3.10/dist-packages (from requests->huggingface-hub->accelerate) (2023.11.17)\n",
            "Requirement already satisfied: mpmath>=0.19 in /usr/local/lib/python3.10/dist-packages (from sympy->torch>=1.10.0->accelerate) (1.3.0)\n"
          ]
        }
      ]
    },
    {
      "cell_type": "code",
      "source": [
        "!pip install --upgrade pyarrow\n"
      ],
      "metadata": {
        "colab": {
          "base_uri": "https://localhost:8080/"
        },
        "id": "XT1Yv_g42-Nq",
        "outputId": "851b54d1-82d2-46ce-fffb-573fb6151221"
      },
      "execution_count": 10,
      "outputs": [
        {
          "output_type": "stream",
          "name": "stdout",
          "text": [
            "Requirement already satisfied: pyarrow in /usr/local/lib/python3.10/dist-packages (14.0.1)\n",
            "Requirement already satisfied: numpy>=1.16.6 in /usr/local/lib/python3.10/dist-packages (from pyarrow) (1.23.5)\n"
          ]
        }
      ]
    },
    {
      "cell_type": "markdown",
      "source": [
        "Set keys"
      ],
      "metadata": {
        "id": "CwHLpu6mxDdF"
      }
    },
    {
      "cell_type": "code",
      "source": [
        "from google.colab import userdata\n"
      ],
      "metadata": {
        "id": "bKRMhiRyyqJN"
      },
      "execution_count": 11,
      "outputs": []
    },
    {
      "cell_type": "code",
      "source": [
        "import os\n"
      ],
      "metadata": {
        "id": "HKHRTS7FzKrV"
      },
      "execution_count": 12,
      "outputs": []
    },
    {
      "cell_type": "code",
      "source": [
        "os.environ[\"REPLICATE_API_TOKEN\"] = userdata.get('REPLICATE_API_TOKEN')"
      ],
      "metadata": {
        "id": "lIRPzUzQz146"
      },
      "execution_count": 13,
      "outputs": []
    },
    {
      "cell_type": "markdown",
      "source": [
        "Initializing model and Initializing Clients"
      ],
      "metadata": {
        "id": "kdHse4eszhyq"
      }
    },
    {
      "cell_type": "code",
      "source": [
        "from llama_index import Document, SimpleDirectoryReader\n",
        "from llama_index.indices.multi_modal.base import MultiModalVectorStoreIndex\n",
        "from llama_index.multi_modal_llms.replicate_multi_modal import ReplicateMultiModal\n",
        "from llama_index.prompts import PromptTemplate\n",
        "import matplotlib.pyplot as plt\n",
        "import pandas as pd\n",
        "import json\n",
        "\n",
        "# Initialize Fuyu-8B MultiModal LLM\n",
        "fuyu_mm_llm = ReplicateMultiModal(\n",
        "    model=\"lucataco/fuyu-8b:42f23bc876570a46f5a90737086fbc4c3f79dd11753a28eaa39544dd391815e9\",\n",
        "    max_new_tokens=500,\n",
        "    temperature=0.1,\n",
        "    num_input_files=1,\n",
        "    top_p=0.9,\n",
        "    num_beams=1,\n",
        "    repetition_penalty=1,\n",
        ")\n",
        "\n",
        "\n"
      ],
      "metadata": {
        "id": "9ucyVYGTzkEg"
      },
      "execution_count": 14,
      "outputs": []
    },
    {
      "cell_type": "code",
      "source": [
        "CLUSTER_ENDPOINT=userdata.get('CLUSTER_ENDPOINT')\n",
        "TOKEN=userdata.get('TOKEN')\n"
      ],
      "metadata": {
        "id": "_mR5kyXK0yWJ"
      },
      "execution_count": 15,
      "outputs": []
    },
    {
      "cell_type": "code",
      "source": [
        "from pymilvus import connections\n",
        "connections.connect(\n",
        "   alias = 'default',\n",
        "   uri=CLUSTER_ENDPOINT,\n",
        "   token=TOKEN)"
      ],
      "metadata": {
        "id": "Z5sL2h1g1XHC"
      },
      "execution_count": 16,
      "outputs": []
    },
    {
      "cell_type": "markdown",
      "source": [
        "Loading the data\n"
      ],
      "metadata": {
        "id": "Haf-Ipdyq93Q"
      }
    },
    {
      "cell_type": "code",
      "source": [
        "from google.colab import drive\n",
        "drive.mount('/content/drive')"
      ],
      "metadata": {
        "id": "U_3ZqnTm4Fl6",
        "colab": {
          "base_uri": "https://localhost:8080/"
        },
        "outputId": "850ddf73-3854-4482-93f6-aa24dd72b9b5"
      },
      "execution_count": 17,
      "outputs": [
        {
          "output_type": "stream",
          "name": "stdout",
          "text": [
            "Drive already mounted at /content/drive; to attempt to forcibly remount, call drive.mount(\"/content/drive\", force_remount=True).\n"
          ]
        }
      ]
    },
    {
      "cell_type": "code",
      "source": [
        "from llama_index import SimpleDirectoryReader, Document\n",
        "\n",
        "# context images\n",
        "image_path = \"/content/drive/MyDrive/NDVI/NDVI_imgs\"\n",
        "image_with_text_documents = SimpleDirectoryReader(image_path).load_data()\n",
        "image_documents = SimpleDirectoryReader(image_path).load_data()\n",
        "\n",
        "# context text\n",
        "text_path = \"/content/drive/MyDrive/NDVI/NDVI-analysis\"\n",
        "text_documents = SimpleDirectoryReader(text_path).load_data()"
      ],
      "metadata": {
        "id": "diwMRlvv7Uj7"
      },
      "execution_count": 18,
      "outputs": []
    },
    {
      "cell_type": "markdown",
      "source": [
        "Adding fuyu-8b descriptions"
      ],
      "metadata": {
        "id": "W5jsHOdT8U7H"
      }
    },
    {
      "cell_type": "code",
      "source": [
        "load_previously_generated_text_descriptions = False"
      ],
      "metadata": {
        "id": "Wv5gUsw6AQgx"
      },
      "execution_count": 19,
      "outputs": []
    },
    {
      "cell_type": "code",
      "source": [
        "import torch\n",
        "\n",
        "# Check if GPU is available and set as default device\n",
        "device = torch.device(\"cuda\" if torch.cuda.is_available() else \"cpu\")\n",
        "print(f\"Using device: {device}\")"
      ],
      "metadata": {
        "colab": {
          "base_uri": "https://localhost:8080/"
        },
        "id": "FAjYNEWkfc2H",
        "outputId": "7f87e3c0-8bed-4b26-8a5b-0660bee3666f"
      },
      "execution_count": 20,
      "outputs": [
        {
          "output_type": "stream",
          "name": "stdout",
          "text": [
            "Using device: cpu\n"
          ]
        }
      ]
    },
    {
      "cell_type": "code",
      "source": [
        "\n",
        "from llama_index.schema import ImageDocument\n",
        "import tqdm\n",
        "import json\n",
        "from llama_index import SimpleDirectoryReader, Document\n",
        "\n",
        "# Assuming image_with_text_documents is already loaded using SimpleDirectoryReader\n",
        "# Now let's add the text descriptions manually\n",
        "\n",
        "# Define the path to save the descriptions\n",
        "description_save_path = \"/content/drive/MyDrive/NDVI/color_ndvi/ndvi_image_descriptions.json\"\n",
        "\n",
        "# Check if descriptions file exists and load it\n",
        "if os.path.exists(description_save_path):\n",
        "    with open(description_save_path, \"r\") as f:\n",
        "        image_descriptions = json.load(f)\n",
        "        # If descriptions exist, update image_with_text_documents with loaded descriptions\n",
        "        for img_doc in image_with_text_documents:\n",
        "            filename = os.path.basename(img_doc.image_path)\n",
        "            if filename in image_descriptions:\n",
        "                img_doc.text = image_descriptions[filename]\n",
        "\n",
        "# Manually add descriptions to each image document\n",
        "for img_doc in tqdm.tqdm(image_with_text_documents):\n",
        "    # Skip if the document already has a description\n",
        "    if getattr(img_doc, 'text', None):\n",
        "        continue\n",
        "\n",
        "    # Prompt for manual text description input\n",
        "    print(f\"Enter description for {os.path.basename(img_doc.image_path)}:\")\n",
        "    description = input()  # Manually input the description\n",
        "    img_doc.text = description  # Assign the inputted description to the ImageDocument\n",
        "\n",
        "# Save the updated descriptions back to JSON\n",
        "# Creating a dictionary with filename as key and description as value\n",
        "desc_dict = {os.path.basename(doc.image_path): doc.text for doc in image_with_text_documents}\n",
        "with open(description_save_path, \"w\") as f:\n",
        "    json.dump(desc_dict, f)"
      ],
      "metadata": {
        "colab": {
          "base_uri": "https://localhost:8080/"
        },
        "id": "Y1PR36mx8UDr",
        "outputId": "caca1be9-e84b-4eff-a13a-acd0ff4c6a2f"
      },
      "execution_count": 21,
      "outputs": [
        {
          "output_type": "stream",
          "name": "stderr",
          "text": [
            "100%|██████████| 22/22 [00:00<00:00, 179174.15it/s]\n"
          ]
        }
      ]
    },
    {
      "cell_type": "markdown",
      "source": [
        "Making nodes"
      ],
      "metadata": {
        "id": "wgEpTDzb8bXB"
      }
    },
    {
      "cell_type": "code",
      "source": [
        "from llama_index.node_parser import SentenceSplitter\n",
        "\n",
        "node_parser = SentenceSplitter.from_defaults()\n",
        "\n",
        "image_nodes = node_parser.get_nodes_from_documents(image_documents)\n",
        "image_with_text_nodes = node_parser.get_nodes_from_documents(image_with_text_documents)\n",
        "text_nodes = node_parser.get_nodes_from_documents(text_documents)"
      ],
      "metadata": {
        "id": "5wAYeqfY8fKJ"
      },
      "execution_count": 22,
      "outputs": []
    },
    {
      "cell_type": "code",
      "source": [
        "print(image_with_text_nodes)"
      ],
      "metadata": {
        "colab": {
          "base_uri": "https://localhost:8080/"
        },
        "id": "yWDzknWUAjcb",
        "outputId": "f80197e6-e5ef-46ab-a403-e9e44106286a"
      },
      "execution_count": 23,
      "outputs": [
        {
          "output_type": "stream",
          "name": "stdout",
          "text": [
            "[ImageNode(id_='bd18ae63-f5b2-4eb5-b741-d662c5342ad9', embedding=None, metadata={'file_path': '/content/drive/MyDrive/NDVI/NDVI_imgs/NDVI.jpg', 'file_name': 'NDVI.jpg', 'file_type': 'image/jpeg', 'file_size': 11106, 'creation_date': '2023-12-10', 'last_modified_date': '2023-12-10', 'last_accessed_date': '2023-12-10'}, excluded_embed_metadata_keys=['file_name', 'file_type', 'file_size', 'creation_date', 'last_modified_date', 'last_accessed_date'], excluded_llm_metadata_keys=['file_name', 'file_type', 'file_size', 'creation_date', 'last_modified_date', 'last_accessed_date'], relationships={<NodeRelationship.SOURCE: '1'>: RelatedNodeInfo(node_id='44e84ffb-586b-473b-8068-c744f655fff3', node_type=<ObjectType.DOCUMENT: '4'>, metadata={'file_path': '/content/drive/MyDrive/NDVI/NDVI_imgs/NDVI.jpg', 'file_name': 'NDVI.jpg', 'file_type': 'image/jpeg', 'file_size': 11106, 'creation_date': '2023-12-10', 'last_modified_date': '2023-12-10', 'last_accessed_date': '2023-12-10'}, hash='fb3bd05e091adc49d78f57afb07bd5367782719463c5cda00fa96139e4c04cef'), <NodeRelationship.NEXT: '3'>: RelatedNodeInfo(node_id='8302eb1d-6774-418a-8867-ead3971d2c3a', node_type=<ObjectType.IMAGE: '2'>, metadata={}, hash='72657e643b770fc194a36133b7bf1abf15503cc8234a134e16350a945f4b5e9d')}, hash='2d29107a69f2edf63941108c4465968533d442ad16b0d0630854ece1298db0b7', text='a field with varying shades of green. The uniform areas of dark green suggest healthy vegetation, potentially indicative of a well-maintained crop or grassland. The lighter green areas might be indicative of lesser vegetation density or health, which could be due to several factors like soil conditions, water availability, or agricultural practices.', start_char_idx=0, end_char_idx=351, text_template='{metadata_str}\\n\\n{content}', metadata_template='{key}: {value}', metadata_seperator='\\n', image=None, image_path='/content/drive/MyDrive/NDVI/NDVI_imgs/NDVI.jpg', image_url=None, text_embedding=None), ImageNode(id_='8302eb1d-6774-418a-8867-ead3971d2c3a', embedding=None, metadata={'file_path': '/content/drive/MyDrive/NDVI/NDVI_imgs/NDVI_img.jpg', 'file_name': 'NDVI_img.jpg', 'file_type': 'image/jpeg', 'file_size': 5369, 'creation_date': '2023-12-10', 'last_modified_date': '2023-12-10', 'last_accessed_date': '2023-12-10'}, excluded_embed_metadata_keys=['file_name', 'file_type', 'file_size', 'creation_date', 'last_modified_date', 'last_accessed_date'], excluded_llm_metadata_keys=['file_name', 'file_type', 'file_size', 'creation_date', 'last_modified_date', 'last_accessed_date'], relationships={<NodeRelationship.SOURCE: '1'>: RelatedNodeInfo(node_id='bccccb46-273b-472e-9290-5ee50d07b6f8', node_type=<ObjectType.DOCUMENT: '4'>, metadata={'file_path': '/content/drive/MyDrive/NDVI/NDVI_imgs/NDVI_img.jpg', 'file_name': 'NDVI_img.jpg', 'file_type': 'image/jpeg', 'file_size': 5369, 'creation_date': '2023-12-10', 'last_modified_date': '2023-12-10', 'last_accessed_date': '2023-12-10'}, hash='184dda183ddc2e1e09eb25f7bf51027548e49313c4c27fe57eb3ee9f7850ac42'), <NodeRelationship.PREVIOUS: '2'>: RelatedNodeInfo(node_id='bd18ae63-f5b2-4eb5-b741-d662c5342ad9', node_type=<ObjectType.IMAGE: '2'>, metadata={'file_path': '/content/drive/MyDrive/NDVI/NDVI_imgs/NDVI.jpg', 'file_name': 'NDVI.jpg', 'file_type': 'image/jpeg', 'file_size': 11106, 'creation_date': '2023-12-10', 'last_modified_date': '2023-12-10', 'last_accessed_date': '2023-12-10'}, hash='2d29107a69f2edf63941108c4465968533d442ad16b0d0630854ece1298db0b7'), <NodeRelationship.NEXT: '3'>: RelatedNodeInfo(node_id='6635ea73-1e13-4c00-8f1f-93ce704c8de7', node_type=<ObjectType.IMAGE: '2'>, metadata={}, hash='9afd5b646f47e2e9c4d2b49a73347b7ad808cf9848dc6ed7316b8f70e4b3e25a')}, hash='72657e643b770fc194a36133b7bf1abf15503cc8234a134e16350a945f4b5e9d', text='The image, though small and less detailed, appears to follow the same principle. The patchy green areas suggest a mix of vegetation density, with the darker spots being healthier than the lighter ones.', start_char_idx=0, end_char_idx=201, text_template='{metadata_str}\\n\\n{content}', metadata_template='{key}: {value}', metadata_seperator='\\n', image=None, image_path='/content/drive/MyDrive/NDVI/NDVI_imgs/NDVI_img.jpg', image_url=None, text_embedding=None), ImageNode(id_='6635ea73-1e13-4c00-8f1f-93ce704c8de7', embedding=None, metadata={'file_path': '/content/drive/MyDrive/NDVI/NDVI_imgs/Screenshot 2023-12-10 223814.jpg', 'file_name': 'Screenshot 2023-12-10 223814.jpg', 'file_type': 'image/jpeg', 'file_size': 69893, 'creation_date': '2023-12-10', 'last_modified_date': '2023-12-10', 'last_accessed_date': '2023-12-10'}, excluded_embed_metadata_keys=['file_name', 'file_type', 'file_size', 'creation_date', 'last_modified_date', 'last_accessed_date'], excluded_llm_metadata_keys=['file_name', 'file_type', 'file_size', 'creation_date', 'last_modified_date', 'last_accessed_date'], relationships={<NodeRelationship.SOURCE: '1'>: RelatedNodeInfo(node_id='e562f381-621f-4fc8-9365-626b535e72d5', node_type=<ObjectType.DOCUMENT: '4'>, metadata={'file_path': '/content/drive/MyDrive/NDVI/NDVI_imgs/Screenshot 2023-12-10 223814.jpg', 'file_name': 'Screenshot 2023-12-10 223814.jpg', 'file_type': 'image/jpeg', 'file_size': 69893, 'creation_date': '2023-12-10', 'last_modified_date': '2023-12-10', 'last_accessed_date': '2023-12-10'}, hash='76b2731ffd41a48afd63ff98216d1a47a5690e32023e24a785c8101396546ec2'), <NodeRelationship.PREVIOUS: '2'>: RelatedNodeInfo(node_id='8302eb1d-6774-418a-8867-ead3971d2c3a', node_type=<ObjectType.IMAGE: '2'>, metadata={'file_path': '/content/drive/MyDrive/NDVI/NDVI_imgs/NDVI_img.jpg', 'file_name': 'NDVI_img.jpg', 'file_type': 'image/jpeg', 'file_size': 5369, 'creation_date': '2023-12-10', 'last_modified_date': '2023-12-10', 'last_accessed_date': '2023-12-10'}, hash='72657e643b770fc194a36133b7bf1abf15503cc8234a134e16350a945f4b5e9d'), <NodeRelationship.NEXT: '3'>: RelatedNodeInfo(node_id='caaf387b-5870-479a-aee4-010321d7a864', node_type=<ObjectType.IMAGE: '2'>, metadata={}, hash='d228985ddf61864c74caa156c074e6747902ac2616bbe0d95d1e26869b9bab7d')}, hash='9afd5b646f47e2e9c4d2b49a73347b7ad808cf9848dc6ed7316b8f70e4b3e25a', text='the standard “green” palette is employed. The white and light green areas indicate sparse to no vegetation. Conversely, the dark green areas depict robust, healthy vegetation. We can infer that the areas with darker green have a higher NDVI value and are likely areas of dense, healthy vegetation, such as forests or well-maintained agricultural fields', start_char_idx=0, end_char_idx=352, text_template='{metadata_str}\\n\\n{content}', metadata_template='{key}: {value}', metadata_seperator='\\n', image=None, image_path='/content/drive/MyDrive/NDVI/NDVI_imgs/Screenshot 2023-12-10 223814.jpg', image_url=None, text_embedding=None), ImageNode(id_='caaf387b-5870-479a-aee4-010321d7a864', embedding=None, metadata={'file_path': '/content/drive/MyDrive/NDVI/NDVI_imgs/Screenshot 2023-12-10 224632.jpg', 'file_name': 'Screenshot 2023-12-10 224632.jpg', 'file_type': 'image/jpeg', 'file_size': 26620, 'creation_date': '2023-12-10', 'last_modified_date': '2023-12-10', 'last_accessed_date': '2023-12-10'}, excluded_embed_metadata_keys=['file_name', 'file_type', 'file_size', 'creation_date', 'last_modified_date', 'last_accessed_date'], excluded_llm_metadata_keys=['file_name', 'file_type', 'file_size', 'creation_date', 'last_modified_date', 'last_accessed_date'], relationships={<NodeRelationship.SOURCE: '1'>: RelatedNodeInfo(node_id='f4162d78-6d5f-4f06-82a2-fc9396fcc4cf', node_type=<ObjectType.DOCUMENT: '4'>, metadata={'file_path': '/content/drive/MyDrive/NDVI/NDVI_imgs/Screenshot 2023-12-10 224632.jpg', 'file_name': 'Screenshot 2023-12-10 224632.jpg', 'file_type': 'image/jpeg', 'file_size': 26620, 'creation_date': '2023-12-10', 'last_modified_date': '2023-12-10', 'last_accessed_date': '2023-12-10'}, hash='fb6e30aa22ca4a7f6c71ae6b5abd796ac950fe08f89a86a84ca1f656176983ab'), <NodeRelationship.PREVIOUS: '2'>: RelatedNodeInfo(node_id='6635ea73-1e13-4c00-8f1f-93ce704c8de7', node_type=<ObjectType.IMAGE: '2'>, metadata={'file_path': '/content/drive/MyDrive/NDVI/NDVI_imgs/Screenshot 2023-12-10 223814.jpg', 'file_name': 'Screenshot 2023-12-10 223814.jpg', 'file_type': 'image/jpeg', 'file_size': 69893, 'creation_date': '2023-12-10', 'last_modified_date': '2023-12-10', 'last_accessed_date': '2023-12-10'}, hash='9afd5b646f47e2e9c4d2b49a73347b7ad808cf9848dc6ed7316b8f70e4b3e25a'), <NodeRelationship.NEXT: '3'>: RelatedNodeInfo(node_id='aeda6731-82f9-4207-b03f-d43381149ac0', node_type=<ObjectType.IMAGE: '2'>, metadata={}, hash='e22d9c01cd15344b4815d530f1d2f6f07ceb089dddc3899c9f0f32cecc83ad40')}, hash='d228985ddf61864c74caa156c074e6747902ac2616bbe0d95d1e26869b9bab7d', text='In the NDVI map, there are areas of light to medium green interspersed with areas of dark green, which indicates a mix of vegetation density. The darker green areas are indicative of dense, healthy vegetation, likely forests or well-maintained crops. In contrast, the light green areas suggest sparser vegetation, which could be due to natural variation, agricultural fields in early stages of growth, or areas experiencing some stress.', start_char_idx=0, end_char_idx=436, text_template='{metadata_str}\\n\\n{content}', metadata_template='{key}: {value}', metadata_seperator='\\n', image=None, image_path='/content/drive/MyDrive/NDVI/NDVI_imgs/Screenshot 2023-12-10 224632.jpg', image_url=None, text_embedding=None), ImageNode(id_='aeda6731-82f9-4207-b03f-d43381149ac0', embedding=None, metadata={'file_path': '/content/drive/MyDrive/NDVI/NDVI_imgs/light.jpg', 'file_name': 'light.jpg', 'file_type': 'image/jpeg', 'file_size': 19896, 'creation_date': '2023-12-10', 'last_modified_date': '2023-12-10', 'last_accessed_date': '2023-12-10'}, excluded_embed_metadata_keys=['file_name', 'file_type', 'file_size', 'creation_date', 'last_modified_date', 'last_accessed_date'], excluded_llm_metadata_keys=['file_name', 'file_type', 'file_size', 'creation_date', 'last_modified_date', 'last_accessed_date'], relationships={<NodeRelationship.SOURCE: '1'>: RelatedNodeInfo(node_id='3d704387-16d8-4a13-88f7-03cd6d94fe78', node_type=<ObjectType.DOCUMENT: '4'>, metadata={'file_path': '/content/drive/MyDrive/NDVI/NDVI_imgs/light.jpg', 'file_name': 'light.jpg', 'file_type': 'image/jpeg', 'file_size': 19896, 'creation_date': '2023-12-10', 'last_modified_date': '2023-12-10', 'last_accessed_date': '2023-12-10'}, hash='e24372945296252293660b409a87555d6cfd329a0d7ae3757fde7dd2c3ccdeee'), <NodeRelationship.PREVIOUS: '2'>: RelatedNodeInfo(node_id='caaf387b-5870-479a-aee4-010321d7a864', node_type=<ObjectType.IMAGE: '2'>, metadata={'file_path': '/content/drive/MyDrive/NDVI/NDVI_imgs/Screenshot 2023-12-10 224632.jpg', 'file_name': 'Screenshot 2023-12-10 224632.jpg', 'file_type': 'image/jpeg', 'file_size': 26620, 'creation_date': '2023-12-10', 'last_modified_date': '2023-12-10', 'last_accessed_date': '2023-12-10'}, hash='d228985ddf61864c74caa156c074e6747902ac2616bbe0d95d1e26869b9bab7d'), <NodeRelationship.NEXT: '3'>: RelatedNodeInfo(node_id='a9424f8a-fc4b-4419-b6dc-d8e87f22a5b9', node_type=<ObjectType.IMAGE: '2'>, metadata={}, hash='dc3812159ffe9724b001c03a80b78c517502ec77d717269404b69f15e1b512f0')}, hash='e22d9c01cd15344b4815d530f1d2f6f07ceb089dddc3899c9f0f32cecc83ad40', text='the presence of dark green along the edges suggests dense vegetation, possibly indicating the boundaries of a forested area or a well-established field. The majority of the area, however, is covered in light green to yellowish tones, signifying sparse vegetation.', start_char_idx=0, end_char_idx=263, text_template='{metadata_str}\\n\\n{content}', metadata_template='{key}: {value}', metadata_seperator='\\n', image=None, image_path='/content/drive/MyDrive/NDVI/NDVI_imgs/light.jpg', image_url=None, text_embedding=None), ImageNode(id_='a9424f8a-fc4b-4419-b6dc-d8e87f22a5b9', embedding=None, metadata={'file_path': '/content/drive/MyDrive/NDVI/NDVI_imgs/ndvi_image (1).jpg', 'file_name': 'ndvi_image (1).jpg', 'file_type': 'image/jpeg', 'file_size': 487, 'creation_date': '2023-12-10', 'last_modified_date': '2023-12-10', 'last_accessed_date': '2023-12-10'}, excluded_embed_metadata_keys=['file_name', 'file_type', 'file_size', 'creation_date', 'last_modified_date', 'last_accessed_date'], excluded_llm_metadata_keys=['file_name', 'file_type', 'file_size', 'creation_date', 'last_modified_date', 'last_accessed_date'], relationships={<NodeRelationship.SOURCE: '1'>: RelatedNodeInfo(node_id='a2cb9217-e420-44eb-80aa-1798a8042bd0', node_type=<ObjectType.DOCUMENT: '4'>, metadata={'file_path': '/content/drive/MyDrive/NDVI/NDVI_imgs/ndvi_image (1).jpg', 'file_name': 'ndvi_image (1).jpg', 'file_type': 'image/jpeg', 'file_size': 487, 'creation_date': '2023-12-10', 'last_modified_date': '2023-12-10', 'last_accessed_date': '2023-12-10'}, hash='5e3c08c1acd7f758e0078ac86c10e74f157c689c32f4ea3ac36a94a162c666f4'), <NodeRelationship.PREVIOUS: '2'>: RelatedNodeInfo(node_id='aeda6731-82f9-4207-b03f-d43381149ac0', node_type=<ObjectType.IMAGE: '2'>, metadata={'file_path': '/content/drive/MyDrive/NDVI/NDVI_imgs/light.jpg', 'file_name': 'light.jpg', 'file_type': 'image/jpeg', 'file_size': 19896, 'creation_date': '2023-12-10', 'last_modified_date': '2023-12-10', 'last_accessed_date': '2023-12-10'}, hash='e22d9c01cd15344b4815d530f1d2f6f07ceb089dddc3899c9f0f32cecc83ad40'), <NodeRelationship.NEXT: '3'>: RelatedNodeInfo(node_id='920164ce-600d-4540-8059-7b424bd67d57', node_type=<ObjectType.IMAGE: '2'>, metadata={}, hash='34863859e5a7e6e9b8a8381a48ad113a525762cf3838ebfacf3c82e58720ec05')}, hash='dc3812159ffe9724b001c03a80b78c517502ec77d717269404b69f15e1b512f0', text='The image predominantly features very light green to nearly white shades, indicating little to no vegetation presence. This could be due to several factors such as barren land, urban areas, or heavily stressed vegetation.', start_char_idx=0, end_char_idx=221, text_template='{metadata_str}\\n\\n{content}', metadata_template='{key}: {value}', metadata_seperator='\\n', image=None, image_path='/content/drive/MyDrive/NDVI/NDVI_imgs/ndvi_image (1).jpg', image_url=None, text_embedding=None), ImageNode(id_='920164ce-600d-4540-8059-7b424bd67d57', embedding=None, metadata={'file_path': '/content/drive/MyDrive/NDVI/NDVI_imgs/ndvi_image (10).jpg', 'file_name': 'ndvi_image (10).jpg', 'file_type': 'image/jpeg', 'file_size': 829, 'creation_date': '2023-12-10', 'last_modified_date': '2023-12-10', 'last_accessed_date': '2023-12-10'}, excluded_embed_metadata_keys=['file_name', 'file_type', 'file_size', 'creation_date', 'last_modified_date', 'last_accessed_date'], excluded_llm_metadata_keys=['file_name', 'file_type', 'file_size', 'creation_date', 'last_modified_date', 'last_accessed_date'], relationships={<NodeRelationship.SOURCE: '1'>: RelatedNodeInfo(node_id='b000367f-5c82-4edb-8287-39f4c2388622', node_type=<ObjectType.DOCUMENT: '4'>, metadata={'file_path': '/content/drive/MyDrive/NDVI/NDVI_imgs/ndvi_image (10).jpg', 'file_name': 'ndvi_image (10).jpg', 'file_type': 'image/jpeg', 'file_size': 829, 'creation_date': '2023-12-10', 'last_modified_date': '2023-12-10', 'last_accessed_date': '2023-12-10'}, hash='125991092419c7597428a4187851f88428d55c905d9f36cedea9a77f6568418d'), <NodeRelationship.PREVIOUS: '2'>: RelatedNodeInfo(node_id='a9424f8a-fc4b-4419-b6dc-d8e87f22a5b9', node_type=<ObjectType.IMAGE: '2'>, metadata={'file_path': '/content/drive/MyDrive/NDVI/NDVI_imgs/ndvi_image (1).jpg', 'file_name': 'ndvi_image (1).jpg', 'file_type': 'image/jpeg', 'file_size': 487, 'creation_date': '2023-12-10', 'last_modified_date': '2023-12-10', 'last_accessed_date': '2023-12-10'}, hash='dc3812159ffe9724b001c03a80b78c517502ec77d717269404b69f15e1b512f0'), <NodeRelationship.NEXT: '3'>: RelatedNodeInfo(node_id='505512e8-4e24-47a2-9446-892ccdac847a', node_type=<ObjectType.IMAGE: '2'>, metadata={}, hash='96715a60fe1f19c030ad26c6759a6bcdceb3202222c214179bd0abb2af4a836a')}, hash='34863859e5a7e6e9b8a8381a48ad113a525762cf3838ebfacf3c82e58720ec05', text='NDVI map shows a variation in greenness. The majority of the area is covered in a light green shade, suggesting that the vegetation is generally sparse or not very dense. This could be characteristic of grasslands, fields after harvest, or regions with less fertile soil.', start_char_idx=0, end_char_idx=271, text_template='{metadata_str}\\n\\n{content}', metadata_template='{key}: {value}', metadata_seperator='\\n', image=None, image_path='/content/drive/MyDrive/NDVI/NDVI_imgs/ndvi_image (10).jpg', image_url=None, text_embedding=None), ImageNode(id_='505512e8-4e24-47a2-9446-892ccdac847a', embedding=None, metadata={'file_path': '/content/drive/MyDrive/NDVI/NDVI_imgs/ndvi_image (11).jpg', 'file_name': 'ndvi_image (11).jpg', 'file_type': 'image/jpeg', 'file_size': 1407, 'creation_date': '2023-12-10', 'last_modified_date': '2023-12-10', 'last_accessed_date': '2023-12-10'}, excluded_embed_metadata_keys=['file_name', 'file_type', 'file_size', 'creation_date', 'last_modified_date', 'last_accessed_date'], excluded_llm_metadata_keys=['file_name', 'file_type', 'file_size', 'creation_date', 'last_modified_date', 'last_accessed_date'], relationships={<NodeRelationship.SOURCE: '1'>: RelatedNodeInfo(node_id='28dbf176-478a-4f48-8df0-e6e7f3956193', node_type=<ObjectType.DOCUMENT: '4'>, metadata={'file_path': '/content/drive/MyDrive/NDVI/NDVI_imgs/ndvi_image (11).jpg', 'file_name': 'ndvi_image (11).jpg', 'file_type': 'image/jpeg', 'file_size': 1407, 'creation_date': '2023-12-10', 'last_modified_date': '2023-12-10', 'last_accessed_date': '2023-12-10'}, hash='554c83d4f8eb42665afced6498a397e8add12fa038a5688cceac8d6671ee6a69'), <NodeRelationship.PREVIOUS: '2'>: RelatedNodeInfo(node_id='920164ce-600d-4540-8059-7b424bd67d57', node_type=<ObjectType.IMAGE: '2'>, metadata={'file_path': '/content/drive/MyDrive/NDVI/NDVI_imgs/ndvi_image (10).jpg', 'file_name': 'ndvi_image (10).jpg', 'file_type': 'image/jpeg', 'file_size': 829, 'creation_date': '2023-12-10', 'last_modified_date': '2023-12-10', 'last_accessed_date': '2023-12-10'}, hash='34863859e5a7e6e9b8a8381a48ad113a525762cf3838ebfacf3c82e58720ec05'), <NodeRelationship.NEXT: '3'>: RelatedNodeInfo(node_id='305df616-c1b3-4700-9369-734ee79c9892', node_type=<ObjectType.IMAGE: '2'>, metadata={}, hash='06d0178f9702c89d7bed7a41178461501cb8007a3c4de66d6fa8695282563339')}, hash='96715a60fe1f19c030ad26c6759a6bcdceb3202222c214179bd0abb2af4a836a', text='(light yellow-greenish hue) suggests a very low vegetation presence, which could be indicative of barren land, stressed vegetation, or areas with little to no photosynthetic activity.', start_char_idx=0, end_char_idx=183, text_template='{metadata_str}\\n\\n{content}', metadata_template='{key}: {value}', metadata_seperator='\\n', image=None, image_path='/content/drive/MyDrive/NDVI/NDVI_imgs/ndvi_image (11).jpg', image_url=None, text_embedding=None), ImageNode(id_='305df616-c1b3-4700-9369-734ee79c9892', embedding=None, metadata={'file_path': '/content/drive/MyDrive/NDVI/NDVI_imgs/ndvi_image (12).jpg', 'file_name': 'ndvi_image (12).jpg', 'file_type': 'image/jpeg', 'file_size': 911, 'creation_date': '2023-12-10', 'last_modified_date': '2023-12-10', 'last_accessed_date': '2023-12-10'}, excluded_embed_metadata_keys=['file_name', 'file_type', 'file_size', 'creation_date', 'last_modified_date', 'last_accessed_date'], excluded_llm_metadata_keys=['file_name', 'file_type', 'file_size', 'creation_date', 'last_modified_date', 'last_accessed_date'], relationships={<NodeRelationship.SOURCE: '1'>: RelatedNodeInfo(node_id='1c64379b-7719-4f0b-a17a-7a341c0f134d', node_type=<ObjectType.DOCUMENT: '4'>, metadata={'file_path': '/content/drive/MyDrive/NDVI/NDVI_imgs/ndvi_image (12).jpg', 'file_name': 'ndvi_image (12).jpg', 'file_type': 'image/jpeg', 'file_size': 911, 'creation_date': '2023-12-10', 'last_modified_date': '2023-12-10', 'last_accessed_date': '2023-12-10'}, hash='08d4937dae0a3d0b2a5b23cd18fb81e9855fd7ad39ee4d540bed93168fe9fdf1'), <NodeRelationship.PREVIOUS: '2'>: RelatedNodeInfo(node_id='505512e8-4e24-47a2-9446-892ccdac847a', node_type=<ObjectType.IMAGE: '2'>, metadata={'file_path': '/content/drive/MyDrive/NDVI/NDVI_imgs/ndvi_image (11).jpg', 'file_name': 'ndvi_image (11).jpg', 'file_type': 'image/jpeg', 'file_size': 1407, 'creation_date': '2023-12-10', 'last_modified_date': '2023-12-10', 'last_accessed_date': '2023-12-10'}, hash='96715a60fe1f19c030ad26c6759a6bcdceb3202222c214179bd0abb2af4a836a'), <NodeRelationship.NEXT: '3'>: RelatedNodeInfo(node_id='200c5ff7-a98e-4fb7-910b-f25ee5b727ef', node_type=<ObjectType.IMAGE: '2'>, metadata={}, hash='70bf0d40bbc98a497e3560529cc33fdbbe4627b66c027c3bec368c0f50b2da92')}, hash='06d0178f9702c89d7bed7a41178461501cb8007a3c4de66d6fa8695282563339', text='(light to medium green hue) implies a moderate level of vegetation. This could be indicative of grasslands or agricultural areas that are not fully developed or are experiencing some degree of stress.', start_char_idx=0, end_char_idx=200, text_template='{metadata_str}\\n\\n{content}', metadata_template='{key}: {value}', metadata_seperator='\\n', image=None, image_path='/content/drive/MyDrive/NDVI/NDVI_imgs/ndvi_image (12).jpg', image_url=None, text_embedding=None), ImageNode(id_='200c5ff7-a98e-4fb7-910b-f25ee5b727ef', embedding=None, metadata={'file_path': '/content/drive/MyDrive/NDVI/NDVI_imgs/ndvi_image (13).jpg', 'file_name': 'ndvi_image (13).jpg', 'file_type': 'image/jpeg', 'file_size': 454, 'creation_date': '2023-12-10', 'last_modified_date': '2023-12-10', 'last_accessed_date': '2023-12-10'}, excluded_embed_metadata_keys=['file_name', 'file_type', 'file_size', 'creation_date', 'last_modified_date', 'last_accessed_date'], excluded_llm_metadata_keys=['file_name', 'file_type', 'file_size', 'creation_date', 'last_modified_date', 'last_accessed_date'], relationships={<NodeRelationship.SOURCE: '1'>: RelatedNodeInfo(node_id='76c4ac58-eb79-4694-b0d2-05f7d229437f', node_type=<ObjectType.DOCUMENT: '4'>, metadata={'file_path': '/content/drive/MyDrive/NDVI/NDVI_imgs/ndvi_image (13).jpg', 'file_name': 'ndvi_image (13).jpg', 'file_type': 'image/jpeg', 'file_size': 454, 'creation_date': '2023-12-10', 'last_modified_date': '2023-12-10', 'last_accessed_date': '2023-12-10'}, hash='3428a68810c75b474b18d508dcc786e8d972b14c3177adab117bb6ee4e452295'), <NodeRelationship.PREVIOUS: '2'>: RelatedNodeInfo(node_id='305df616-c1b3-4700-9369-734ee79c9892', node_type=<ObjectType.IMAGE: '2'>, metadata={'file_path': '/content/drive/MyDrive/NDVI/NDVI_imgs/ndvi_image (12).jpg', 'file_name': 'ndvi_image (12).jpg', 'file_type': 'image/jpeg', 'file_size': 911, 'creation_date': '2023-12-10', 'last_modified_date': '2023-12-10', 'last_accessed_date': '2023-12-10'}, hash='06d0178f9702c89d7bed7a41178461501cb8007a3c4de66d6fa8695282563339'), <NodeRelationship.NEXT: '3'>: RelatedNodeInfo(node_id='d7493493-b52c-44c4-a2cf-abcf4c0f687a', node_type=<ObjectType.IMAGE: '2'>, metadata={}, hash='c0f681be49873de2739ea2cacca9769494b9a301ade2eae2be1b71108ddb8361')}, hash='70bf0d40bbc98a497e3560529cc33fdbbe4627b66c027c3bec368c0f50b2da92', text='(light green hue) also suggests moderate vegetation presence. This could indicate vegetation that is present but not particularly dense or healthy.', start_char_idx=0, end_char_idx=147, text_template='{metadata_str}\\n\\n{content}', metadata_template='{key}: {value}', metadata_seperator='\\n', image=None, image_path='/content/drive/MyDrive/NDVI/NDVI_imgs/ndvi_image (13).jpg', image_url=None, text_embedding=None), ImageNode(id_='d7493493-b52c-44c4-a2cf-abcf4c0f687a', embedding=None, metadata={'file_path': '/content/drive/MyDrive/NDVI/NDVI_imgs/ndvi_image (14).jpg', 'file_name': 'ndvi_image (14).jpg', 'file_type': 'image/jpeg', 'file_size': 500, 'creation_date': '2023-12-10', 'last_modified_date': '2023-12-10', 'last_accessed_date': '2023-12-10'}, excluded_embed_metadata_keys=['file_name', 'file_type', 'file_size', 'creation_date', 'last_modified_date', 'last_accessed_date'], excluded_llm_metadata_keys=['file_name', 'file_type', 'file_size', 'creation_date', 'last_modified_date', 'last_accessed_date'], relationships={<NodeRelationship.SOURCE: '1'>: RelatedNodeInfo(node_id='882d0374-c28d-43b0-b6ca-55a2594975d8', node_type=<ObjectType.DOCUMENT: '4'>, metadata={'file_path': '/content/drive/MyDrive/NDVI/NDVI_imgs/ndvi_image (14).jpg', 'file_name': 'ndvi_image (14).jpg', 'file_type': 'image/jpeg', 'file_size': 500, 'creation_date': '2023-12-10', 'last_modified_date': '2023-12-10', 'last_accessed_date': '2023-12-10'}, hash='6dc94324f20a35681e0f0de43fecffcfa98ae248ad50151880a12369196ed0bb'), <NodeRelationship.PREVIOUS: '2'>: RelatedNodeInfo(node_id='200c5ff7-a98e-4fb7-910b-f25ee5b727ef', node_type=<ObjectType.IMAGE: '2'>, metadata={'file_path': '/content/drive/MyDrive/NDVI/NDVI_imgs/ndvi_image (13).jpg', 'file_name': 'ndvi_image (13).jpg', 'file_type': 'image/jpeg', 'file_size': 454, 'creation_date': '2023-12-10', 'last_modified_date': '2023-12-10', 'last_accessed_date': '2023-12-10'}, hash='70bf0d40bbc98a497e3560529cc33fdbbe4627b66c027c3bec368c0f50b2da92'), <NodeRelationship.NEXT: '3'>: RelatedNodeInfo(node_id='efa8f025-263c-4e3a-adfd-b8131e451cd3', node_type=<ObjectType.IMAGE: '2'>, metadata={}, hash='ae4ec2616c6e8de56bd048a8bcbf8df26b2d076635d0d16868d09ecbfbaba824')}, hash='c0f681be49873de2739ea2cacca9769494b9a301ade2eae2be1b71108ddb8361', text='(light green to yellowish hue) shows a very sparse vegetation presence, indicating minimal vegetative health.', start_char_idx=0, end_char_idx=109, text_template='{metadata_str}\\n\\n{content}', metadata_template='{key}: {value}', metadata_seperator='\\n', image=None, image_path='/content/drive/MyDrive/NDVI/NDVI_imgs/ndvi_image (14).jpg', image_url=None, text_embedding=None), ImageNode(id_='efa8f025-263c-4e3a-adfd-b8131e451cd3', embedding=None, metadata={'file_path': '/content/drive/MyDrive/NDVI/NDVI_imgs/ndvi_image (15).jpg', 'file_name': 'ndvi_image (15).jpg', 'file_type': 'image/jpeg', 'file_size': 198, 'creation_date': '2023-12-10', 'last_modified_date': '2023-12-10', 'last_accessed_date': '2023-12-10'}, excluded_embed_metadata_keys=['file_name', 'file_type', 'file_size', 'creation_date', 'last_modified_date', 'last_accessed_date'], excluded_llm_metadata_keys=['file_name', 'file_type', 'file_size', 'creation_date', 'last_modified_date', 'last_accessed_date'], relationships={<NodeRelationship.SOURCE: '1'>: RelatedNodeInfo(node_id='02db964f-50d4-491e-b3db-65474a0d4874', node_type=<ObjectType.DOCUMENT: '4'>, metadata={'file_path': '/content/drive/MyDrive/NDVI/NDVI_imgs/ndvi_image (15).jpg', 'file_name': 'ndvi_image (15).jpg', 'file_type': 'image/jpeg', 'file_size': 198, 'creation_date': '2023-12-10', 'last_modified_date': '2023-12-10', 'last_accessed_date': '2023-12-10'}, hash='ab4001006abb6abf32924f53c7afb6cff93402b10723a68aa0161ff23eb436c2'), <NodeRelationship.PREVIOUS: '2'>: RelatedNodeInfo(node_id='d7493493-b52c-44c4-a2cf-abcf4c0f687a', node_type=<ObjectType.IMAGE: '2'>, metadata={'file_path': '/content/drive/MyDrive/NDVI/NDVI_imgs/ndvi_image (14).jpg', 'file_name': 'ndvi_image (14).jpg', 'file_type': 'image/jpeg', 'file_size': 500, 'creation_date': '2023-12-10', 'last_modified_date': '2023-12-10', 'last_accessed_date': '2023-12-10'}, hash='c0f681be49873de2739ea2cacca9769494b9a301ade2eae2be1b71108ddb8361'), <NodeRelationship.NEXT: '3'>: RelatedNodeInfo(node_id='c0d19e33-132b-45c6-b767-71526f650518', node_type=<ObjectType.IMAGE: '2'>, metadata={}, hash='1bac986ed26b0405f5d5bb5da82c7388c1c83cddc286f9dfc142bdb06a4a6f4b')}, hash='ae4ec2616c6e8de56bd048a8bcbf8df26b2d076635d0d16868d09ecbfbaba824', text='the light green hue is consistent with moderate vegetation density. It may point to areas where the vegetation is present but not very thick, which could be due to environmental factors or the type of vegetation itself.', start_char_idx=0, end_char_idx=219, text_template='{metadata_str}\\n\\n{content}', metadata_template='{key}: {value}', metadata_seperator='\\n', image=None, image_path='/content/drive/MyDrive/NDVI/NDVI_imgs/ndvi_image (15).jpg', image_url=None, text_embedding=None), ImageNode(id_='c0d19e33-132b-45c6-b767-71526f650518', embedding=None, metadata={'file_path': '/content/drive/MyDrive/NDVI/NDVI_imgs/ndvi_image (16).jpg', 'file_name': 'ndvi_image (16).jpg', 'file_type': 'image/jpeg', 'file_size': 245, 'creation_date': '2023-12-10', 'last_modified_date': '2023-12-10', 'last_accessed_date': '2023-12-10'}, excluded_embed_metadata_keys=['file_name', 'file_type', 'file_size', 'creation_date', 'last_modified_date', 'last_accessed_date'], excluded_llm_metadata_keys=['file_name', 'file_type', 'file_size', 'creation_date', 'last_modified_date', 'last_accessed_date'], relationships={<NodeRelationship.SOURCE: '1'>: RelatedNodeInfo(node_id='b5161aaa-926e-4216-8ade-d1e9951b95fb', node_type=<ObjectType.DOCUMENT: '4'>, metadata={'file_path': '/content/drive/MyDrive/NDVI/NDVI_imgs/ndvi_image (16).jpg', 'file_name': 'ndvi_image (16).jpg', 'file_type': 'image/jpeg', 'file_size': 245, 'creation_date': '2023-12-10', 'last_modified_date': '2023-12-10', 'last_accessed_date': '2023-12-10'}, hash='c41fd64cf605e861a5e6956031eceb2c8f2674f96b95fb137e1ee3e09fc24490'), <NodeRelationship.PREVIOUS: '2'>: RelatedNodeInfo(node_id='efa8f025-263c-4e3a-adfd-b8131e451cd3', node_type=<ObjectType.IMAGE: '2'>, metadata={'file_path': '/content/drive/MyDrive/NDVI/NDVI_imgs/ndvi_image (15).jpg', 'file_name': 'ndvi_image (15).jpg', 'file_type': 'image/jpeg', 'file_size': 198, 'creation_date': '2023-12-10', 'last_modified_date': '2023-12-10', 'last_accessed_date': '2023-12-10'}, hash='ae4ec2616c6e8de56bd048a8bcbf8df26b2d076635d0d16868d09ecbfbaba824'), <NodeRelationship.NEXT: '3'>: RelatedNodeInfo(node_id='2bb15580-3f10-4224-a243-c0e94dcff7aa', node_type=<ObjectType.IMAGE: '2'>, metadata={}, hash='965ec7db7d51d4870e873f11ef28083d053d58596a66950a34a7efe6506272da')}, hash='1bac986ed26b0405f5d5bb5da82c7388c1c83cddc286f9dfc142bdb06a4a6f4b', text='The image has a very light green hue, indicating low vegetation density. This might be characteristic of grasslands, scrublands, or agricultural areas in between planting seasons.', start_char_idx=0, end_char_idx=179, text_template='{metadata_str}\\n\\n{content}', metadata_template='{key}: {value}', metadata_seperator='\\n', image=None, image_path='/content/drive/MyDrive/NDVI/NDVI_imgs/ndvi_image (16).jpg', image_url=None, text_embedding=None), ImageNode(id_='2bb15580-3f10-4224-a243-c0e94dcff7aa', embedding=None, metadata={'file_path': '/content/drive/MyDrive/NDVI/NDVI_imgs/ndvi_image (2).jpg', 'file_name': 'ndvi_image (2).jpg', 'file_type': 'image/jpeg', 'file_size': 2585, 'creation_date': '2023-12-10', 'last_modified_date': '2023-12-10', 'last_accessed_date': '2023-12-10'}, excluded_embed_metadata_keys=['file_name', 'file_type', 'file_size', 'creation_date', 'last_modified_date', 'last_accessed_date'], excluded_llm_metadata_keys=['file_name', 'file_type', 'file_size', 'creation_date', 'last_modified_date', 'last_accessed_date'], relationships={<NodeRelationship.SOURCE: '1'>: RelatedNodeInfo(node_id='425bd8b2-949e-4dd9-9bb8-81f4880a8562', node_type=<ObjectType.DOCUMENT: '4'>, metadata={'file_path': '/content/drive/MyDrive/NDVI/NDVI_imgs/ndvi_image (2).jpg', 'file_name': 'ndvi_image (2).jpg', 'file_type': 'image/jpeg', 'file_size': 2585, 'creation_date': '2023-12-10', 'last_modified_date': '2023-12-10', 'last_accessed_date': '2023-12-10'}, hash='218c18abe640dc814ca5787dd44a49c06abff18c4fe9b4b4456889a854720d21'), <NodeRelationship.PREVIOUS: '2'>: RelatedNodeInfo(node_id='c0d19e33-132b-45c6-b767-71526f650518', node_type=<ObjectType.IMAGE: '2'>, metadata={'file_path': '/content/drive/MyDrive/NDVI/NDVI_imgs/ndvi_image (16).jpg', 'file_name': 'ndvi_image (16).jpg', 'file_type': 'image/jpeg', 'file_size': 245, 'creation_date': '2023-12-10', 'last_modified_date': '2023-12-10', 'last_accessed_date': '2023-12-10'}, hash='1bac986ed26b0405f5d5bb5da82c7388c1c83cddc286f9dfc142bdb06a4a6f4b'), <NodeRelationship.NEXT: '3'>: RelatedNodeInfo(node_id='7661d0e2-e7b7-49ee-b2de-bd97533e1c9d', node_type=<ObjectType.IMAGE: '2'>, metadata={}, hash='b84c5ffc514dce571161ac605e28a61acacf355c887a30ad3e68ed427d120024')}, hash='965ec7db7d51d4870e873f11ef28083d053d58596a66950a34a7efe6506272da', text='The image, with a slightly darker shade of green, implies a moderate level of vegetation density. This could represent young crops, pastures, or natural areas where the vegetation is not particularly lush.', start_char_idx=0, end_char_idx=205, text_template='{metadata_str}\\n\\n{content}', metadata_template='{key}: {value}', metadata_seperator='\\n', image=None, image_path='/content/drive/MyDrive/NDVI/NDVI_imgs/ndvi_image (2).jpg', image_url=None, text_embedding=None), ImageNode(id_='7661d0e2-e7b7-49ee-b2de-bd97533e1c9d', embedding=None, metadata={'file_path': '/content/drive/MyDrive/NDVI/NDVI_imgs/ndvi_image (3).jpg', 'file_name': 'ndvi_image (3).jpg', 'file_type': 'image/jpeg', 'file_size': 137, 'creation_date': '2023-12-10', 'last_modified_date': '2023-12-10', 'last_accessed_date': '2023-12-10'}, excluded_embed_metadata_keys=['file_name', 'file_type', 'file_size', 'creation_date', 'last_modified_date', 'last_accessed_date'], excluded_llm_metadata_keys=['file_name', 'file_type', 'file_size', 'creation_date', 'last_modified_date', 'last_accessed_date'], relationships={<NodeRelationship.SOURCE: '1'>: RelatedNodeInfo(node_id='1433d33c-1724-4cc5-a502-80acacbdc39b', node_type=<ObjectType.DOCUMENT: '4'>, metadata={'file_path': '/content/drive/MyDrive/NDVI/NDVI_imgs/ndvi_image (3).jpg', 'file_name': 'ndvi_image (3).jpg', 'file_type': 'image/jpeg', 'file_size': 137, 'creation_date': '2023-12-10', 'last_modified_date': '2023-12-10', 'last_accessed_date': '2023-12-10'}, hash='19cfbdc430126bc39fd6aeef3ac23307520b582c3690c937ab22007fc8ca9135'), <NodeRelationship.PREVIOUS: '2'>: RelatedNodeInfo(node_id='2bb15580-3f10-4224-a243-c0e94dcff7aa', node_type=<ObjectType.IMAGE: '2'>, metadata={'file_path': '/content/drive/MyDrive/NDVI/NDVI_imgs/ndvi_image (2).jpg', 'file_name': 'ndvi_image (2).jpg', 'file_type': 'image/jpeg', 'file_size': 2585, 'creation_date': '2023-12-10', 'last_modified_date': '2023-12-10', 'last_accessed_date': '2023-12-10'}, hash='965ec7db7d51d4870e873f11ef28083d053d58596a66950a34a7efe6506272da'), <NodeRelationship.NEXT: '3'>: RelatedNodeInfo(node_id='3c78673c-b1ac-40dd-864c-079803403c59', node_type=<ObjectType.IMAGE: '2'>, metadata={}, hash='f635735b3d64f2044744d62875368024df0d360b137dd842e742875d3a48572d')}, hash='b84c5ffc514dce571161ac605e28a61acacf355c887a30ad3e68ed427d120024', text='the near-white color suggests an absence of vegetation or very sparse vegetation. This could indicate barren land, urban areas, or fields that have been recently harvested or are fallow.', start_char_idx=0, end_char_idx=186, text_template='{metadata_str}\\n\\n{content}', metadata_template='{key}: {value}', metadata_seperator='\\n', image=None, image_path='/content/drive/MyDrive/NDVI/NDVI_imgs/ndvi_image (3).jpg', image_url=None, text_embedding=None), ImageNode(id_='3c78673c-b1ac-40dd-864c-079803403c59', embedding=None, metadata={'file_path': '/content/drive/MyDrive/NDVI/NDVI_imgs/ndvi_image (4).jpg', 'file_name': 'ndvi_image (4).jpg', 'file_type': 'image/jpeg', 'file_size': 410, 'creation_date': '2023-12-10', 'last_modified_date': '2023-12-10', 'last_accessed_date': '2023-12-10'}, excluded_embed_metadata_keys=['file_name', 'file_type', 'file_size', 'creation_date', 'last_modified_date', 'last_accessed_date'], excluded_llm_metadata_keys=['file_name', 'file_type', 'file_size', 'creation_date', 'last_modified_date', 'last_accessed_date'], relationships={<NodeRelationship.SOURCE: '1'>: RelatedNodeInfo(node_id='8649d1be-9f7f-4e31-b403-9b29ada85d73', node_type=<ObjectType.DOCUMENT: '4'>, metadata={'file_path': '/content/drive/MyDrive/NDVI/NDVI_imgs/ndvi_image (4).jpg', 'file_name': 'ndvi_image (4).jpg', 'file_type': 'image/jpeg', 'file_size': 410, 'creation_date': '2023-12-10', 'last_modified_date': '2023-12-10', 'last_accessed_date': '2023-12-10'}, hash='d81014eabcb6fac1eadc3f20deb925c3b812a946824d217a8362face8dbe18f7'), <NodeRelationship.PREVIOUS: '2'>: RelatedNodeInfo(node_id='7661d0e2-e7b7-49ee-b2de-bd97533e1c9d', node_type=<ObjectType.IMAGE: '2'>, metadata={'file_path': '/content/drive/MyDrive/NDVI/NDVI_imgs/ndvi_image (3).jpg', 'file_name': 'ndvi_image (3).jpg', 'file_type': 'image/jpeg', 'file_size': 137, 'creation_date': '2023-12-10', 'last_modified_date': '2023-12-10', 'last_accessed_date': '2023-12-10'}, hash='b84c5ffc514dce571161ac605e28a61acacf355c887a30ad3e68ed427d120024'), <NodeRelationship.NEXT: '3'>: RelatedNodeInfo(node_id='e1f0a9a6-6f75-4aa9-8a43-d146379b0b8a', node_type=<ObjectType.IMAGE: '2'>, metadata={}, hash='a95fd10e0238df43945eb362adae2064085ccac51c756748be17dc072c26b280')}, hash='f635735b3d64f2044744d62875368024df0d360b137dd842e742875d3a48572d', text='image is also predominantly light green, implying moderate vegetation presence. This might be indicative of a landscape where the vegetation is present but not lush or dense.', start_char_idx=0, end_char_idx=174, text_template='{metadata_str}\\n\\n{content}', metadata_template='{key}: {value}', metadata_seperator='\\n', image=None, image_path='/content/drive/MyDrive/NDVI/NDVI_imgs/ndvi_image (4).jpg', image_url=None, text_embedding=None), ImageNode(id_='e1f0a9a6-6f75-4aa9-8a43-d146379b0b8a', embedding=None, metadata={'file_path': '/content/drive/MyDrive/NDVI/NDVI_imgs/ndvi_image (5).jpg', 'file_name': 'ndvi_image (5).jpg', 'file_type': 'image/jpeg', 'file_size': 7070, 'creation_date': '2023-12-10', 'last_modified_date': '2023-12-10', 'last_accessed_date': '2023-12-10'}, excluded_embed_metadata_keys=['file_name', 'file_type', 'file_size', 'creation_date', 'last_modified_date', 'last_accessed_date'], excluded_llm_metadata_keys=['file_name', 'file_type', 'file_size', 'creation_date', 'last_modified_date', 'last_accessed_date'], relationships={<NodeRelationship.SOURCE: '1'>: RelatedNodeInfo(node_id='f05df0ec-2ebf-42fb-bd0b-830acfcae207', node_type=<ObjectType.DOCUMENT: '4'>, metadata={'file_path': '/content/drive/MyDrive/NDVI/NDVI_imgs/ndvi_image (5).jpg', 'file_name': 'ndvi_image (5).jpg', 'file_type': 'image/jpeg', 'file_size': 7070, 'creation_date': '2023-12-10', 'last_modified_date': '2023-12-10', 'last_accessed_date': '2023-12-10'}, hash='06d2d751646fa320c12a65fb6f5b4db91b81ee32e30cc8d0e927a6c4d20ac15c'), <NodeRelationship.PREVIOUS: '2'>: RelatedNodeInfo(node_id='3c78673c-b1ac-40dd-864c-079803403c59', node_type=<ObjectType.IMAGE: '2'>, metadata={'file_path': '/content/drive/MyDrive/NDVI/NDVI_imgs/ndvi_image (4).jpg', 'file_name': 'ndvi_image (4).jpg', 'file_type': 'image/jpeg', 'file_size': 410, 'creation_date': '2023-12-10', 'last_modified_date': '2023-12-10', 'last_accessed_date': '2023-12-10'}, hash='f635735b3d64f2044744d62875368024df0d360b137dd842e742875d3a48572d'), <NodeRelationship.NEXT: '3'>: RelatedNodeInfo(node_id='516d0a71-c572-4aff-bd56-cf0c567829ea', node_type=<ObjectType.IMAGE: '2'>, metadata={}, hash='3ab2fa878a4f73e29de30cbf7a454ab268644e8a7cbbe46a01819a25928265b0')}, hash='a95fd10e0238df43945eb362adae2064085ccac51c756748be17dc072c26b280', text='image displays a range of greens, with some areas slightly darker. This variation in color suggests a mix of vegetation densities, with the darker areas potentially representing healthier or more mature vegetation.', start_char_idx=0, end_char_idx=214, text_template='{metadata_str}\\n\\n{content}', metadata_template='{key}: {value}', metadata_seperator='\\n', image=None, image_path='/content/drive/MyDrive/NDVI/NDVI_imgs/ndvi_image (5).jpg', image_url=None, text_embedding=None), ImageNode(id_='516d0a71-c572-4aff-bd56-cf0c567829ea', embedding=None, metadata={'file_path': '/content/drive/MyDrive/NDVI/NDVI_imgs/ndvi_image (6).jpg', 'file_name': 'ndvi_image (6).jpg', 'file_type': 'image/jpeg', 'file_size': 428, 'creation_date': '2023-12-10', 'last_modified_date': '2023-12-10', 'last_accessed_date': '2023-12-10'}, excluded_embed_metadata_keys=['file_name', 'file_type', 'file_size', 'creation_date', 'last_modified_date', 'last_accessed_date'], excluded_llm_metadata_keys=['file_name', 'file_type', 'file_size', 'creation_date', 'last_modified_date', 'last_accessed_date'], relationships={<NodeRelationship.SOURCE: '1'>: RelatedNodeInfo(node_id='5d5ae9fc-ee4e-4280-b281-6d9bc6e897ed', node_type=<ObjectType.DOCUMENT: '4'>, metadata={'file_path': '/content/drive/MyDrive/NDVI/NDVI_imgs/ndvi_image (6).jpg', 'file_name': 'ndvi_image (6).jpg', 'file_type': 'image/jpeg', 'file_size': 428, 'creation_date': '2023-12-10', 'last_modified_date': '2023-12-10', 'last_accessed_date': '2023-12-10'}, hash='f8abf00ccf59279ee21326995406ec08e51cc9edeaf7efa825b39d73ef66a7e3'), <NodeRelationship.PREVIOUS: '2'>: RelatedNodeInfo(node_id='e1f0a9a6-6f75-4aa9-8a43-d146379b0b8a', node_type=<ObjectType.IMAGE: '2'>, metadata={'file_path': '/content/drive/MyDrive/NDVI/NDVI_imgs/ndvi_image (5).jpg', 'file_name': 'ndvi_image (5).jpg', 'file_type': 'image/jpeg', 'file_size': 7070, 'creation_date': '2023-12-10', 'last_modified_date': '2023-12-10', 'last_accessed_date': '2023-12-10'}, hash='a95fd10e0238df43945eb362adae2064085ccac51c756748be17dc072c26b280'), <NodeRelationship.NEXT: '3'>: RelatedNodeInfo(node_id='d7818709-d35c-4051-9d8d-78a51734b198', node_type=<ObjectType.IMAGE: '2'>, metadata={}, hash='2160bae3b924bfa99bad11295cd754d0e0fa4a8441e628db2d779c40be03ae4e')}, hash='3ab2fa878a4f73e29de30cbf7a454ab268644e8a7cbbe46a01819a25928265b0', text='image has a very light, almost yellowish-green color, indicating low vegetation density. This may represent stressed vegetation or land that is barren or with sparse grasses.', start_char_idx=0, end_char_idx=174, text_template='{metadata_str}\\n\\n{content}', metadata_template='{key}: {value}', metadata_seperator='\\n', image=None, image_path='/content/drive/MyDrive/NDVI/NDVI_imgs/ndvi_image (6).jpg', image_url=None, text_embedding=None), ImageNode(id_='d7818709-d35c-4051-9d8d-78a51734b198', embedding=None, metadata={'file_path': '/content/drive/MyDrive/NDVI/NDVI_imgs/ndvi_image (7).jpg', 'file_name': 'ndvi_image (7).jpg', 'file_type': 'image/jpeg', 'file_size': 623, 'creation_date': '2023-12-10', 'last_modified_date': '2023-12-10', 'last_accessed_date': '2023-12-10'}, excluded_embed_metadata_keys=['file_name', 'file_type', 'file_size', 'creation_date', 'last_modified_date', 'last_accessed_date'], excluded_llm_metadata_keys=['file_name', 'file_type', 'file_size', 'creation_date', 'last_modified_date', 'last_accessed_date'], relationships={<NodeRelationship.SOURCE: '1'>: RelatedNodeInfo(node_id='e47022a3-6962-4b60-b86f-870983c93c83', node_type=<ObjectType.DOCUMENT: '4'>, metadata={'file_path': '/content/drive/MyDrive/NDVI/NDVI_imgs/ndvi_image (7).jpg', 'file_name': 'ndvi_image (7).jpg', 'file_type': 'image/jpeg', 'file_size': 623, 'creation_date': '2023-12-10', 'last_modified_date': '2023-12-10', 'last_accessed_date': '2023-12-10'}, hash='d791599d8af3528698cd839982e0744f981a2b9e673c82db6da53a0066c12e78'), <NodeRelationship.PREVIOUS: '2'>: RelatedNodeInfo(node_id='516d0a71-c572-4aff-bd56-cf0c567829ea', node_type=<ObjectType.IMAGE: '2'>, metadata={'file_path': '/content/drive/MyDrive/NDVI/NDVI_imgs/ndvi_image (6).jpg', 'file_name': 'ndvi_image (6).jpg', 'file_type': 'image/jpeg', 'file_size': 428, 'creation_date': '2023-12-10', 'last_modified_date': '2023-12-10', 'last_accessed_date': '2023-12-10'}, hash='3ab2fa878a4f73e29de30cbf7a454ab268644e8a7cbbe46a01819a25928265b0'), <NodeRelationship.NEXT: '3'>: RelatedNodeInfo(node_id='2a9ba631-a1f6-4a47-a50b-8fba7c794781', node_type=<ObjectType.IMAGE: '2'>, metadata={}, hash='6110407866cb3e82549b9159d93c1a59399029ad29bb97642e96be5d33f73fbe')}, hash='2160bae3b924bfa99bad11295cd754d0e0fa4a8441e628db2d779c40be03ae4e', text='image shows a light green shade, suggesting moderate vegetation density. This could be indicative of grasslands, agricultural fields that are not fully mature, or areas where the vegetation is generally less dense.', start_char_idx=0, end_char_idx=214, text_template='{metadata_str}\\n\\n{content}', metadata_template='{key}: {value}', metadata_seperator='\\n', image=None, image_path='/content/drive/MyDrive/NDVI/NDVI_imgs/ndvi_image (7).jpg', image_url=None, text_embedding=None), ImageNode(id_='2a9ba631-a1f6-4a47-a50b-8fba7c794781', embedding=None, metadata={'file_path': '/content/drive/MyDrive/NDVI/NDVI_imgs/ndvi_image (8).jpg', 'file_name': 'ndvi_image (8).jpg', 'file_type': 'image/jpeg', 'file_size': 1170, 'creation_date': '2023-12-10', 'last_modified_date': '2023-12-10', 'last_accessed_date': '2023-12-10'}, excluded_embed_metadata_keys=['file_name', 'file_type', 'file_size', 'creation_date', 'last_modified_date', 'last_accessed_date'], excluded_llm_metadata_keys=['file_name', 'file_type', 'file_size', 'creation_date', 'last_modified_date', 'last_accessed_date'], relationships={<NodeRelationship.SOURCE: '1'>: RelatedNodeInfo(node_id='2da1a4c7-228e-47c0-9349-05fd902cb8ea', node_type=<ObjectType.DOCUMENT: '4'>, metadata={'file_path': '/content/drive/MyDrive/NDVI/NDVI_imgs/ndvi_image (8).jpg', 'file_name': 'ndvi_image (8).jpg', 'file_type': 'image/jpeg', 'file_size': 1170, 'creation_date': '2023-12-10', 'last_modified_date': '2023-12-10', 'last_accessed_date': '2023-12-10'}, hash='3335278bb02197d5f7936ffa4fa96d216f9260f6a31f26d32937d9248221f156'), <NodeRelationship.PREVIOUS: '2'>: RelatedNodeInfo(node_id='d7818709-d35c-4051-9d8d-78a51734b198', node_type=<ObjectType.IMAGE: '2'>, metadata={'file_path': '/content/drive/MyDrive/NDVI/NDVI_imgs/ndvi_image (7).jpg', 'file_name': 'ndvi_image (7).jpg', 'file_type': 'image/jpeg', 'file_size': 623, 'creation_date': '2023-12-10', 'last_modified_date': '2023-12-10', 'last_accessed_date': '2023-12-10'}, hash='2160bae3b924bfa99bad11295cd754d0e0fa4a8441e628db2d779c40be03ae4e'), <NodeRelationship.NEXT: '3'>: RelatedNodeInfo(node_id='4bde7781-a2a4-4b09-9a02-b96f6c279a75', node_type=<ObjectType.IMAGE: '2'>, metadata={}, hash='179e5839aa784b3486a1988b0223be8da0d5094d34bc38ec8af2a12c2dd6f6ee')}, hash='6110407866cb3e82549b9159d93c1a59399029ad29bb97642e96be5d33f73fbe', text='image presents a very light green, almost white coloration, suggesting very sparse vegetation. This could be indicative of barren land, urban areas without green spaces, or agricultural fields in non-growing seasons.', start_char_idx=1, end_char_idx=217, text_template='{metadata_str}\\n\\n{content}', metadata_template='{key}: {value}', metadata_seperator='\\n', image=None, image_path='/content/drive/MyDrive/NDVI/NDVI_imgs/ndvi_image (8).jpg', image_url=None, text_embedding=None), ImageNode(id_='4bde7781-a2a4-4b09-9a02-b96f6c279a75', embedding=None, metadata={'file_path': '/content/drive/MyDrive/NDVI/NDVI_imgs/ndvi_image (9).jpg', 'file_name': 'ndvi_image (9).jpg', 'file_type': 'image/jpeg', 'file_size': 87448, 'creation_date': '2023-12-10', 'last_modified_date': '2023-12-10', 'last_accessed_date': '2023-12-10'}, excluded_embed_metadata_keys=['file_name', 'file_type', 'file_size', 'creation_date', 'last_modified_date', 'last_accessed_date'], excluded_llm_metadata_keys=['file_name', 'file_type', 'file_size', 'creation_date', 'last_modified_date', 'last_accessed_date'], relationships={<NodeRelationship.SOURCE: '1'>: RelatedNodeInfo(node_id='ea804ee4-bd14-4716-ac01-eb555afd445a', node_type=<ObjectType.DOCUMENT: '4'>, metadata={'file_path': '/content/drive/MyDrive/NDVI/NDVI_imgs/ndvi_image (9).jpg', 'file_name': 'ndvi_image (9).jpg', 'file_type': 'image/jpeg', 'file_size': 87448, 'creation_date': '2023-12-10', 'last_modified_date': '2023-12-10', 'last_accessed_date': '2023-12-10'}, hash='a39f32815b0dd402390b4b2efe6c6c10fc8c0e29f61200083c96aea4366708c5'), <NodeRelationship.PREVIOUS: '2'>: RelatedNodeInfo(node_id='2a9ba631-a1f6-4a47-a50b-8fba7c794781', node_type=<ObjectType.IMAGE: '2'>, metadata={'file_path': '/content/drive/MyDrive/NDVI/NDVI_imgs/ndvi_image (8).jpg', 'file_name': 'ndvi_image (8).jpg', 'file_type': 'image/jpeg', 'file_size': 1170, 'creation_date': '2023-12-10', 'last_modified_date': '2023-12-10', 'last_accessed_date': '2023-12-10'}, hash='6110407866cb3e82549b9159d93c1a59399029ad29bb97642e96be5d33f73fbe'), <NodeRelationship.NEXT: '3'>: RelatedNodeInfo(node_id='5fbf5e3d-ab3b-4fe5-8903-bf41fe18ec0b', node_type=<ObjectType.IMAGE: '2'>, metadata={}, hash='863ea9b0dd696a9a57bd7df94f109a4a086d753d1d3f5b66c07e0ab38007ac12')}, hash='179e5839aa784b3486a1988b0223be8da0d5094d34bc38ec8af2a12c2dd6f6ee', text='image shows an almost white coloration across the entire area, which indicates an absence of vegetation or extremely sparse vegetation. This might represent a desert, snow, rocky terrain, or heavily developed urban areas.', start_char_idx=0, end_char_idx=221, text_template='{metadata_str}\\n\\n{content}', metadata_template='{key}: {value}', metadata_seperator='\\n', image=None, image_path='/content/drive/MyDrive/NDVI/NDVI_imgs/ndvi_image (9).jpg', image_url=None, text_embedding=None), ImageNode(id_='5fbf5e3d-ab3b-4fe5-8903-bf41fe18ec0b', embedding=None, metadata={'file_path': '/content/drive/MyDrive/NDVI/NDVI_imgs/ndvi_image.jpg', 'file_name': 'ndvi_image.jpg', 'file_type': 'image/jpeg', 'file_size': 1616, 'creation_date': '2023-12-10', 'last_modified_date': '2023-12-10', 'last_accessed_date': '2023-12-10'}, excluded_embed_metadata_keys=['file_name', 'file_type', 'file_size', 'creation_date', 'last_modified_date', 'last_accessed_date'], excluded_llm_metadata_keys=['file_name', 'file_type', 'file_size', 'creation_date', 'last_modified_date', 'last_accessed_date'], relationships={<NodeRelationship.SOURCE: '1'>: RelatedNodeInfo(node_id='b9f1d61d-57fb-4705-837c-5f25e024df19', node_type=<ObjectType.DOCUMENT: '4'>, metadata={'file_path': '/content/drive/MyDrive/NDVI/NDVI_imgs/ndvi_image.jpg', 'file_name': 'ndvi_image.jpg', 'file_type': 'image/jpeg', 'file_size': 1616, 'creation_date': '2023-12-10', 'last_modified_date': '2023-12-10', 'last_accessed_date': '2023-12-10'}, hash='5941fb66acc9d7dcac0adb6db5fd38d3c38c96b27ba9b62162eb0b32dca7533d'), <NodeRelationship.PREVIOUS: '2'>: RelatedNodeInfo(node_id='4bde7781-a2a4-4b09-9a02-b96f6c279a75', node_type=<ObjectType.IMAGE: '2'>, metadata={'file_path': '/content/drive/MyDrive/NDVI/NDVI_imgs/ndvi_image (9).jpg', 'file_name': 'ndvi_image (9).jpg', 'file_type': 'image/jpeg', 'file_size': 87448, 'creation_date': '2023-12-10', 'last_modified_date': '2023-12-10', 'last_accessed_date': '2023-12-10'}, hash='179e5839aa784b3486a1988b0223be8da0d5094d34bc38ec8af2a12c2dd6f6ee')}, hash='863ea9b0dd696a9a57bd7df94f109a4a086d753d1d3f5b66c07e0ab38007ac12', text='image  exhibits a very pale green, indicating minimal vegetation presence. Similar to the other images, this could be due to a lack of vegetation cover, such as in heavily urbanized areas or dry, arid regions.', start_char_idx=0, end_char_idx=209, text_template='{metadata_str}\\n\\n{content}', metadata_template='{key}: {value}', metadata_seperator='\\n', image=None, image_path='/content/drive/MyDrive/NDVI/NDVI_imgs/ndvi_image.jpg', image_url=None, text_embedding=None)]\n"
          ]
        }
      ]
    },
    {
      "cell_type": "markdown",
      "source": [
        "Build Multi-modal index and vector store to index both text and images"
      ],
      "metadata": {
        "id": "uKyyH2xreCf5"
      }
    },
    {
      "cell_type": "code",
      "source": [
        "from llama_index.vector_stores import MilvusVectorStore\n",
        "from llama_index import SimpleDirectoryReader, StorageContext\n",
        "\n",
        "image_store = MilvusVectorStore(uri = CLUSTER_ENDPOINT, token = TOKEN, collection_name = \"image_store\", dim=512, overwrite=True)\n",
        "\n",
        "text_store = MilvusVectorStore(uri = CLUSTER_ENDPOINT, token = TOKEN, collection_name = \"text_store\", dim=384, overwrite=True)\n",
        "\n",
        "storage_context = StorageContext.from_defaults(vector_store=text_store,image_store=image_store)\n"
      ],
      "metadata": {
        "colab": {
          "base_uri": "https://localhost:8080/"
        },
        "id": "OKeJwdJ40TQI",
        "outputId": "9a135b5c-1b37-4fbf-b52d-f12251cadb73"
      },
      "execution_count": 24,
      "outputs": [
        {
          "output_type": "stream",
          "name": "stderr",
          "text": [
            "DEBUG:pymilvus.milvus_client.milvus_client:Created new connection using: 0bb47d1b932145ae93bf9cb3073d53d0\n",
            "DEBUG:pymilvus.milvus_client.milvus_client:Successfully created collection: image_store\n",
            "DEBUG:pymilvus.milvus_client.milvus_client:Successfully created an index on collection: image_store\n",
            "DEBUG:pymilvus.milvus_client.milvus_client:Created new connection using: 1b2e877e292a4416bca2792fcd6943ef\n",
            "DEBUG:pymilvus.milvus_client.milvus_client:Successfully created collection: text_store\n",
            "DEBUG:pymilvus.milvus_client.milvus_client:Successfully created an index on collection: text_store\n"
          ]
        }
      ]
    },
    {
      "cell_type": "markdown",
      "source": [
        "Make Multimodal Vector Store Index"
      ],
      "metadata": {
        "id": "8y5Z3vF5A4Yp"
      }
    },
    {
      "cell_type": "code",
      "source": [
        "from llama_index.embeddings import HuggingFaceEmbedding\n",
        "from llama_index import ServiceContext\n",
        "# loads BAAI/bge-small-en\n",
        "# embed_model = HuggingFaceEmbedding()\n",
        "from llama_index.llms import Replicate\n",
        "\n",
        "llm = Replicate(\n",
        "    model=\"a16z-infra/llama13b-v2-chat:df7690f1994d94e96ad9d568eac121aecf50684a0b0963b25a41cc40061269e5\"\n",
        ")\n",
        "# loads BAAI/bge-small-en-v1.5\n",
        "embed_model = HuggingFaceEmbedding(model_name=\"BAAI/bge-small-en-v1.5\")\n",
        "service_context = ServiceContext.from_defaults(llm=llm, embed_model=embed_model,)\n"
      ],
      "metadata": {
        "id": "y0-ZZCdqwjS2"
      },
      "execution_count": 25,
      "outputs": []
    },
    {
      "cell_type": "code",
      "source": [
        "# Create the MultiModal index\n",
        "from llama_index.indices.multi_modal.base import MultiModalVectorStoreIndex\n",
        "ndvi_storage_context = StorageContext.from_defaults(vector_store=text_store)\n",
        "\n",
        "img_index = MultiModalVectorStoreIndex(nodes=image_with_text_nodes + text_nodes, is_image_to_text=True, storage_context=ndvi_storage_context, service_context=service_context, show_progress=True)\n"
      ],
      "metadata": {
        "id": "TWIDv-NHeWgT",
        "colab": {
          "base_uri": "https://localhost:8080/",
          "height": 17,
          "referenced_widgets": [
            "90eaae0052e8403ead9c36c076012bc7",
            "77eb94ebce004bf6924b66afb0e4a1bc",
            "0987b3f7053f4f99befa8913f120c080",
            "3592f196697b4071b81e9a2ad5a3b4db",
            "598d73ffab4d4a4198e51105e86c09c4",
            "7995f69a124a44b892d5ab4699853f65",
            "aab11786123846d1a91f8c8c90ca4dc1",
            "c9d907e11e604239a7d9d878966550a7",
            "abb4dd1f9fa84c3dbf75f1cc37988fc1",
            "53fe97df47f94821ab02baa9b7b5f7c6",
            "e5748720347f44ac935e5ebda727a3c1",
            "81473d0495654711b2ced1ae7419ffc1",
            "abc870e28c15463cbf68947d1809a392",
            "73d24c6f5a534eae8918d8ac67587589",
            "777afe0291f94a20a486c21bca256403",
            "82809be47abd439cbc4de230d389137e",
            "64b5ffaa2b314eaa94f5367f80a71327",
            "c2b3ab955dd04282a151f76a169f9b79",
            "ddf9628c07244a049dd55ee1d65708f7",
            "742c3df646984d47afecdac3a21752ac",
            "989087817db245819f417717996cbd8d",
            "bfe02dc25f7c4abea7af3845fc8d355a",
            "dd5813e8398b4ac5a5d1159427413c2a",
            "5392caaae2414b9eb739aec17b2ac7d7",
            "ee8cb28becd74cd686fe6e4acdd7a8ea",
            "72aa8ef6860c430981940afb17c05b51",
            "eeaaaa64e8c54f69a169f850f9708280",
            "566e97c919ea4ff4bdb3ac38cc86c40f",
            "70e45f0ca0a843d1a48b18d32e993971",
            "16bc2bd1e3354a258c89275211b546dc",
            "95b79b958c4847e987a8c972a37f5e9c",
            "d7cf1ccd795a4aeb868448d1e20a6688",
            "66e9c6b140a146c295940a83180d7465"
          ]
        },
        "outputId": "b2a8496c-77e5-4da9-d696-a759a1ad8c23"
      },
      "execution_count": 26,
      "outputs": [
        {
          "output_type": "display_data",
          "data": {
            "text/plain": [
              "Generating embeddings:   0%|          | 0/291 [00:00<?, ?it/s]"
            ],
            "application/vnd.jupyter.widget-view+json": {
              "version_major": 2,
              "version_minor": 0,
              "model_id": "90eaae0052e8403ead9c36c076012bc7"
            }
          },
          "metadata": {}
        },
        {
          "output_type": "display_data",
          "data": {
            "text/plain": [
              "Generating image embeddings:   0%|          | 0/22 [00:00<?, ?it/s]"
            ],
            "application/vnd.jupyter.widget-view+json": {
              "version_major": 2,
              "version_minor": 0,
              "model_id": "81473d0495654711b2ced1ae7419ffc1"
            }
          },
          "metadata": {}
        },
        {
          "output_type": "display_data",
          "data": {
            "text/plain": [
              "Generating embeddings:   0%|          | 0/22 [00:00<?, ?it/s]"
            ],
            "application/vnd.jupyter.widget-view+json": {
              "version_major": 2,
              "version_minor": 0,
              "model_id": "dd5813e8398b4ac5a5d1159427413c2a"
            }
          },
          "metadata": {}
        }
      ]
    },
    {
      "cell_type": "markdown",
      "source": [
        "Test this by commenting out previous index and uncommenting this next section then restarting session - due to limitations in zilliz"
      ],
      "metadata": {
        "id": "yEUW_XSRnIJj"
      }
    },
    {
      "cell_type": "code",
      "source": [],
      "metadata": {
        "id": "HENwLWQanGhE"
      },
      "execution_count": 26,
      "outputs": []
    },
    {
      "cell_type": "code",
      "source": [
        "#ndvi_storage_context = StorageContext.from_defaults(vector_store=text_store)\n",
        "#MultiModalVectorStoreIndex(image_nodes + text_nodes, storage_context = storage_context,service_context = service_context, show_progress=True, image_vector_store=image_store,  image_embed_model = \"clip\")\n",
        "\n",
        "#ndvi_index = MultiModalVectorStoreIndex(nodes=image_with_text_nodes + text_nodes, is_image_to_text=True, storage_context=ndvi_storage_context, service_context=service_context, show_progress=True)"
      ],
      "metadata": {
        "id": "5Tz3RzpmBKQd"
      },
      "execution_count": 27,
      "outputs": []
    },
    {
      "cell_type": "markdown",
      "source": [
        "Retrieve\n"
      ],
      "metadata": {
        "id": "Umth0xSeSu6e"
      }
    },
    {
      "cell_type": "code",
      "source": [
        "def plot_images(image_paths):\n",
        "    images_shown = 0\n",
        "    plt.figure(figsize=(16, 12))\n",
        "    for img_path in image_paths:\n",
        "        if os.path.isfile(img_path):\n",
        "            image = Image.open(img_path)\n",
        "\n",
        "            plt.subplot(5, 5, images_shown + 1)\n",
        "            plt.imshow(image)\n",
        "            plt.xticks([])\n",
        "            plt.yticks([])\n",
        "\n",
        "            images_shown += 1\n",
        "            if images_shown >= 25:\n",
        "                break\n"
      ],
      "metadata": {
        "id": "OE5v40HCSzHa"
      },
      "execution_count": 28,
      "outputs": []
    },
    {
      "cell_type": "code",
      "source": [
        "from llama_index.prompts import PromptTemplate\n",
        "from llama_index.multi_modal_llms.replicate_multi_modal import ReplicateMultiModal\n",
        "\n",
        "from llama_index.query_engine import SimpleMultiModalQueryEngine\n",
        "from llama_index import QueryBundle\n",
        "# Initialize Milvus vector stores for text and images\n",
        "image_store = MilvusVectorStore(uri=CLUSTER_ENDPOINT, token=TOKEN, collection_name=\"image_store\")\n",
        "text_store = MilvusVectorStore(uri=CLUSTER_ENDPOINT, token=TOKEN, collection_name=\"text_store\")\n",
        "\n",
        "# Initialize storage context\n",
        "storage_context = StorageContext.from_defaults(vector_store=text_store, image_store=image_store)\n",
        "\n",
        "# Initialize LLM and embedding models\n",
        "# Initialize Fuyu-8B MultiModal LLM\n",
        "fuyu_mm_llm = ReplicateMultiModal(\n",
        "    model=\"yorickvp/llava-13b:2facb4a474a0462c15041b78b1ad70952ea46b5ec6ad29583c0b29dbd4249591\",\n",
        "    max_new_tokens=500,\n",
        "    temperature=0.1,\n",
        "    num_input_files=1,\n",
        "    top_p=0.9,\n",
        "    num_beams=1,\n",
        "    repetition_penalty=1,\n",
        ")\n",
        "\n",
        "embed_model = HuggingFaceEmbedding(model_name=\"BAAI/bge-small-en-v1.5\")\n",
        "service_context = ServiceContext.from_defaults(llm=llm,embed_model=embed_model)\n",
        "\n",
        "# Initialize the MultiModal index\n",
        "img_vector_index = MultiModalVectorStoreIndex.from_vector_store(\n",
        "    vector_store=text_store,\n",
        "    service_context=service_context,\n",
        "    image_vector_store=image_store,\n",
        "    image_embed_model=\"clip\"\n",
        ")\n",
        "\n",
        "# Define the prompt template for NDVI map analysis\n",
        "qa_tmpl_str = (\n",
        "    \"Given an NDVI map, use the details in the image to answer the user's query.\\n\"\n",
        "    \"Query: {query_str}\\n\"\n",
        "    \"Response: \"\n",
        ")\n",
        "qa_tmpl = PromptTemplate(qa_tmpl_str)\n",
        "input_image = \"/content/drive/MyDrive/NDVI/NDVI_imgs/Converted_NDVI.jpg\"\n",
        "plot_images([input_image])\n",
        "# instantiate a retriever\n",
        "retriever_engine = img_vector_index.as_retriever(\n",
        "    similarity_top_k=3, image_similarity_top_k=3\n",
        ")\n",
        "\n",
        "# get images semantically similar to our own\n",
        "retrieval_results = retriever_engine.retrieve(\"How do I analyze the following map: there are dense vegetation but most of it is sparse\")\n",
        "\n",
        "from llama_index.response.notebook_utils import display_source_node\n",
        "from llama_index.schema import ImageNode\n",
        "\n",
        "retrieved_image = []\n",
        "for res_node in retrieval_results:\n",
        "    if isinstance(res_node.node, ImageNode):\n",
        "        retrieved_image.append(res_node.node.metadata[\"file_path\"])\n",
        "    else:\n",
        "        display_source_node(res_node, source_length=200)\n",
        "\n",
        "plot_images(retrieved_image)\n"
      ],
      "metadata": {
        "colab": {
          "base_uri": "https://localhost:8080/",
          "height": 322
        },
        "id": "GnZi5Q0XypQM",
        "outputId": "25e113cf-9bcd-4a01-c862-955c5907cc70"
      },
      "execution_count": 29,
      "outputs": [
        {
          "output_type": "stream",
          "name": "stderr",
          "text": [
            "DEBUG:pymilvus.milvus_client.milvus_client:Created new connection using: 430d42a419c04ae0b83f2539965cf3d5\n",
            "DEBUG:pymilvus.milvus_client.milvus_client:Created new connection using: 7ef669070b8b4f128b70eaee67bab016\n"
          ]
        },
        {
          "output_type": "display_data",
          "data": {
            "text/plain": [
              "<IPython.core.display.Markdown object>"
            ],
            "text/markdown": "**Node ID:** 920164ce-600d-4540-8059-7b424bd67d57<br>**Similarity:** 0.784331202507019<br>**Text:** NDVI map shows a variation in greenness. The majority of the area is covered in a light green shade, suggesting that the vegetation is generally sparse or not very dense. This could be characterist...<br>"
          },
          "metadata": {}
        },
        {
          "output_type": "display_data",
          "data": {
            "text/plain": [
              "<IPython.core.display.Markdown object>"
            ],
            "text/markdown": "**Node ID:** aeda6731-82f9-4207-b03f-d43381149ac0<br>**Similarity:** 0.7670001983642578<br>**Text:** the presence of dark green along the edges suggests dense vegetation, possibly indicating the boundaries of a forested area or a well-established field. The majority of the area, however, is covere...<br>"
          },
          "metadata": {}
        },
        {
          "output_type": "display_data",
          "data": {
            "text/plain": [
              "<IPython.core.display.Markdown object>"
            ],
            "text/markdown": "**Node ID:** caaf387b-5870-479a-aee4-010321d7a864<br>**Similarity:** 0.7513655424118042<br>**Text:** In the NDVI map, there are areas of light to medium green interspersed with areas of dark green, which indicates a mix of vegetation density. The darker green areas are indicative of dense, healthy...<br>"
          },
          "metadata": {}
        },
        {
          "output_type": "display_data",
          "data": {
            "text/plain": [
              "<Figure size 1600x1200 with 0 Axes>"
            ]
          },
          "metadata": {}
        },
        {
          "output_type": "display_data",
          "data": {
            "text/plain": [
              "<Figure size 1600x1200 with 0 Axes>"
            ]
          },
          "metadata": {}
        }
      ]
    },
    {
      "cell_type": "markdown",
      "source": [],
      "metadata": {
        "id": "INqPiiWVE2_m"
      }
    }
  ]
}